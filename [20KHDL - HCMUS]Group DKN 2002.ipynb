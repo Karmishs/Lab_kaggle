{
 "cells": [
  {
   "cell_type": "markdown",
   "metadata": {
    "id": "u8Y57c4LrrTh"
   },
   "source": [
    "## **Phân tích dữ liệu thông minh - 20KHDL** ##\n",
    "## **Lab Project - Predict Student Performance from Game Play** ##\n",
    "\n",
    "---\n"
   ]
  },
  {
   "cell_type": "markdown",
   "metadata": {
    "id": "DGm3dZ9PsP9K"
   },
   "source": [
    "### ***I. Giới thiệu thành viên và phân công công việc*** ###\n",
    "\n",
    "|MSSV|Họ tên|Phân công công việc|\n",
    "|-----|-----|------|\n",
    "|20127136|Đặng Minh Đức|Quá trình khám phá dữ liệu + Quá trình tiền xử lý dữ liệu|\n",
    "|20127571|Bùi Văn Nghĩa|b|\n",
    "|20127676|Nguyễn Vũ Khôi|c|"
   ]
  },
  {
   "cell_type": "markdown",
   "metadata": {
    "id": "l-0Y-ahbtwwz"
   },
   "source": [
    "### ***II. Giới thiệu chung về đồ án*** ###"
   ]
  },
  {
   "cell_type": "markdown",
   "metadata": {
    "id": "FKFZS0QHuEPj"
   },
   "source": [
    "### ***III. Code*** ###"
   ]
  },
  {
   "cell_type": "markdown",
   "metadata": {
    "id": "y44xsPStuYXE"
   },
   "source": [
    "#### Nạp các thư viện vào cho việc xử lý dữ liệu ####"
   ]
  },
  {
   "cell_type": "code",
   "execution_count": 155,
   "metadata": {
    "executionInfo": {
     "elapsed": 1293,
     "status": "ok",
     "timestamp": 1702022359944,
     "user": {
      "displayName": "Minh Đức Đặng",
      "userId": "09569478104782124625"
     },
     "user_tz": -420
    },
    "id": "W0vxsm_-rn8v"
   },
   "outputs": [],
   "source": [
    "import pandas as pd\n",
    "import numpy as np"
   ]
  },
  {
   "cell_type": "markdown",
   "metadata": {},
   "source": [
    "#### Tải file từ input trong Kaggle ####"
   ]
  },
  {
   "cell_type": "code",
   "execution_count": 156,
   "metadata": {},
   "outputs": [],
   "source": [
    "#import os\n",
    "#for dirname, _, filenames in os.walk('/kaggle/input'):\n",
    "#    for filename in filenames:\n",
    "#        print(os.path.join(dirname, filename))"
   ]
  },
  {
   "cell_type": "markdown",
   "metadata": {
    "id": "8YSK1KPQE9Ub"
   },
   "source": [
    "#### Quá trình khám phá dữ liệu ####"
   ]
  },
  {
   "cell_type": "markdown",
   "metadata": {
    "id": "umnnkmqQbAFD"
   },
   "source": [
    "*1. Số dòng và số cột của train_label và test*"
   ]
  },
  {
   "cell_type": "markdown",
   "metadata": {},
   "source": [
    "Trước hết, chúng em sẽ đọc hai file ``train_labels.csv`` và ``train.csv`` (cũng chính là hai file chúng em chọn để xử lý). Riêng file ``train.csv``, vì file có kích thước rất lớn nên chúng em đọc kèm theo ``chunksize`` để chia dataset thành từng phần, mỗi phần lấy số dòng là ``chunksize`` (chúng em chọn bằng 10000)."
   ]
  },
  {
   "cell_type": "code",
   "execution_count": 157,
   "metadata": {},
   "outputs": [
    {
     "data": {
      "text/html": [
       "<div>\n",
       "<style scoped>\n",
       "    .dataframe tbody tr th:only-of-type {\n",
       "        vertical-align: middle;\n",
       "    }\n",
       "\n",
       "    .dataframe tbody tr th {\n",
       "        vertical-align: top;\n",
       "    }\n",
       "\n",
       "    .dataframe thead th {\n",
       "        text-align: right;\n",
       "    }\n",
       "</style>\n",
       "<table border=\"1\" class=\"dataframe\">\n",
       "  <thead>\n",
       "    <tr style=\"text-align: right;\">\n",
       "      <th></th>\n",
       "      <th>session_id</th>\n",
       "      <th>correct</th>\n",
       "    </tr>\n",
       "  </thead>\n",
       "  <tbody>\n",
       "    <tr>\n",
       "      <th>0</th>\n",
       "      <td>20090312431273200_q1</td>\n",
       "      <td>1</td>\n",
       "    </tr>\n",
       "    <tr>\n",
       "      <th>1</th>\n",
       "      <td>20090312433251036_q1</td>\n",
       "      <td>0</td>\n",
       "    </tr>\n",
       "    <tr>\n",
       "      <th>2</th>\n",
       "      <td>20090312455206810_q1</td>\n",
       "      <td>1</td>\n",
       "    </tr>\n",
       "    <tr>\n",
       "      <th>3</th>\n",
       "      <td>20090313091715820_q1</td>\n",
       "      <td>0</td>\n",
       "    </tr>\n",
       "    <tr>\n",
       "      <th>4</th>\n",
       "      <td>20090313571836404_q1</td>\n",
       "      <td>1</td>\n",
       "    </tr>\n",
       "    <tr>\n",
       "      <th>...</th>\n",
       "      <td>...</td>\n",
       "      <td>...</td>\n",
       "    </tr>\n",
       "    <tr>\n",
       "      <th>424111</th>\n",
       "      <td>22100215342220508_q18</td>\n",
       "      <td>1</td>\n",
       "    </tr>\n",
       "    <tr>\n",
       "      <th>424112</th>\n",
       "      <td>22100215460321130_q18</td>\n",
       "      <td>1</td>\n",
       "    </tr>\n",
       "    <tr>\n",
       "      <th>424113</th>\n",
       "      <td>22100217104993650_q18</td>\n",
       "      <td>1</td>\n",
       "    </tr>\n",
       "    <tr>\n",
       "      <th>424114</th>\n",
       "      <td>22100219442786200_q18</td>\n",
       "      <td>1</td>\n",
       "    </tr>\n",
       "    <tr>\n",
       "      <th>424115</th>\n",
       "      <td>22100221145014656_q18</td>\n",
       "      <td>1</td>\n",
       "    </tr>\n",
       "  </tbody>\n",
       "</table>\n",
       "<p>424116 rows × 2 columns</p>\n",
       "</div>"
      ],
      "text/plain": [
       "                   session_id  correct\n",
       "0        20090312431273200_q1        1\n",
       "1        20090312433251036_q1        0\n",
       "2        20090312455206810_q1        1\n",
       "3        20090313091715820_q1        0\n",
       "4        20090313571836404_q1        1\n",
       "...                       ...      ...\n",
       "424111  22100215342220508_q18        1\n",
       "424112  22100215460321130_q18        1\n",
       "424113  22100217104993650_q18        1\n",
       "424114  22100219442786200_q18        1\n",
       "424115  22100221145014656_q18        1\n",
       "\n",
       "[424116 rows x 2 columns]"
      ]
     },
     "execution_count": 157,
     "metadata": {},
     "output_type": "execute_result"
    }
   ],
   "source": [
    "# Đọc file test.csv \n",
    "train_labels_df = pd.read_csv(\"Data/train_labels.csv\")#pd.read_csv(\"/kaggle/input/predict-student-performance-from-game-play/train_labels.csv\")\n",
    "train_labels_df"
   ]
  },
  {
   "cell_type": "code",
   "execution_count": 158,
   "metadata": {
    "colab": {
     "base_uri": "https://localhost:8080/"
    },
    "executionInfo": {
     "elapsed": 5782,
     "status": "ok",
     "timestamp": 1702022365721,
     "user": {
      "displayName": "Minh Đức Đặng",
      "userId": "09569478104782124625"
     },
     "user_tz": -420
    },
    "id": "RbJ4bxafn_pK",
    "outputId": "d29ff3e6-c5ab-4132-a82e-eb29095d1a00"
   },
   "outputs": [
    {
     "data": {
      "text/plain": [
       "14"
      ]
     },
     "execution_count": 158,
     "metadata": {},
     "output_type": "execute_result"
    }
   ],
   "source": [
    "# Đọc file train.csv \n",
    "train_df = pd.read_csv(\"Data/train.csv\", chunksize=2000000)#pd.read_csv(\"/kaggle/input/predict-student-performance-from-game-play/train.csv\", chunksize=20000)\n",
    "train_df = [train_split_df for train_split_df in train_df]\n",
    "len(train_df)"
   ]
  },
  {
   "cell_type": "code",
   "execution_count": 159,
   "metadata": {
    "colab": {
     "base_uri": "https://localhost:8080/"
    },
    "executionInfo": {
     "elapsed": 36,
     "status": "ok",
     "timestamp": 1702022366760,
     "user": {
      "displayName": "Minh Đức Đặng",
      "userId": "09569478104782124625"
     },
     "user_tz": -420
    },
    "id": "_m6vZ2elXb4G",
    "outputId": "0ea56773-c43f-4de9-dca4-59f8b63d1dfb"
   },
   "outputs": [
    {
     "name": "stdout",
     "output_type": "stream",
     "text": [
      "train_label_df có 424116 dòng và 2 cột\n",
      "train_df có 26296946 dòng và 20 cột\n"
     ]
    }
   ],
   "source": [
    "# Số dòng và số cột của test_df + train_label_df\n",
    "print('train_label_df có', train_labels_df.shape[0], 'dòng và', train_labels_df.shape[1], 'cột')\n",
    "\n",
    "num_row_of_train_df = 0\n",
    "for train_df_chunk in train_df:\n",
    "    num_row_of_train_df += train_df_chunk.shape[0]\n",
    "    \n",
    "print('train_df có', num_row_of_train_df, 'dòng và', train_df[0].shape[1], 'cột')"
   ]
  },
  {
   "cell_type": "markdown",
   "metadata": {
    "id": "9b5ub2yObMrT"
   },
   "source": [
    "*2. Ý nghĩa của từng dòng và từng cột*"
   ]
  },
  {
   "cell_type": "markdown",
   "metadata": {
    "id": "TsC_S2DRm80m"
   },
   "source": [
    "a. ``train_labels_df``"
   ]
  },
  {
   "cell_type": "code",
   "execution_count": 160,
   "metadata": {
    "colab": {
     "base_uri": "https://localhost:8080/"
    },
    "executionInfo": {
     "elapsed": 33,
     "status": "ok",
     "timestamp": 1702022366760,
     "user": {
      "displayName": "Minh Đức Đặng",
      "userId": "09569478104782124625"
     },
     "user_tz": -420
    },
    "id": "8pHjc09gYhNU",
    "outputId": "2f160386-5355-438c-89ab-70432a5d15e7"
   },
   "outputs": [
    {
     "name": "stdout",
     "output_type": "stream",
     "text": [
      "Các cột trong train_labels_df: \n",
      "1 session_id\n",
      "2 correct\n"
     ]
    }
   ],
   "source": [
    "# Trước hết chúng em sẽ xem tên của từng cột trong train_labels_df\n",
    "train_labels_col_name = train_labels_df.columns\n",
    "\n",
    "# In tên của cột trong train_labels_df\n",
    "print('Các cột trong train_labels_df: ')\n",
    "for i in range(0, len(train_labels_col_name)):\n",
    "  print(i + 1, train_labels_col_name[i])"
   ]
  },
  {
   "cell_type": "code",
   "execution_count": 161,
   "metadata": {
    "colab": {
     "base_uri": "https://localhost:8080/",
     "height": 206
    },
    "executionInfo": {
     "elapsed": 31,
     "status": "ok",
     "timestamp": 1702022366760,
     "user": {
      "displayName": "Minh Đức Đặng",
      "userId": "09569478104782124625"
     },
     "user_tz": -420
    },
    "id": "ag5axxtueS07",
    "outputId": "7c9a3ef8-35d7-400b-c659-52b314717eff"
   },
   "outputs": [
    {
     "data": {
      "text/html": [
       "<div>\n",
       "<style scoped>\n",
       "    .dataframe tbody tr th:only-of-type {\n",
       "        vertical-align: middle;\n",
       "    }\n",
       "\n",
       "    .dataframe tbody tr th {\n",
       "        vertical-align: top;\n",
       "    }\n",
       "\n",
       "    .dataframe thead th {\n",
       "        text-align: right;\n",
       "    }\n",
       "</style>\n",
       "<table border=\"1\" class=\"dataframe\">\n",
       "  <thead>\n",
       "    <tr style=\"text-align: right;\">\n",
       "      <th></th>\n",
       "      <th>session_id</th>\n",
       "      <th>correct</th>\n",
       "    </tr>\n",
       "  </thead>\n",
       "  <tbody>\n",
       "    <tr>\n",
       "      <th>0</th>\n",
       "      <td>20090312431273200_q1</td>\n",
       "      <td>1</td>\n",
       "    </tr>\n",
       "    <tr>\n",
       "      <th>1</th>\n",
       "      <td>20090312433251036_q1</td>\n",
       "      <td>0</td>\n",
       "    </tr>\n",
       "    <tr>\n",
       "      <th>2</th>\n",
       "      <td>20090312455206810_q1</td>\n",
       "      <td>1</td>\n",
       "    </tr>\n",
       "    <tr>\n",
       "      <th>3</th>\n",
       "      <td>20090313091715820_q1</td>\n",
       "      <td>0</td>\n",
       "    </tr>\n",
       "    <tr>\n",
       "      <th>4</th>\n",
       "      <td>20090313571836404_q1</td>\n",
       "      <td>1</td>\n",
       "    </tr>\n",
       "  </tbody>\n",
       "</table>\n",
       "</div>"
      ],
      "text/plain": [
       "             session_id  correct\n",
       "0  20090312431273200_q1        1\n",
       "1  20090312433251036_q1        0\n",
       "2  20090312455206810_q1        1\n",
       "3  20090313091715820_q1        0\n",
       "4  20090313571836404_q1        1"
      ]
     },
     "execution_count": 161,
     "metadata": {},
     "output_type": "execute_result"
    }
   ],
   "source": [
    "# Trích 5 dòng của train_labels_df\n",
    "train_labels_df.head(5)"
   ]
  },
  {
   "cell_type": "markdown",
   "metadata": {
    "id": "qf7nK8sqeZAr"
   },
   "source": [
    "**Ý nghĩa của từng dòng trong dữ liệu**: Mỗi dòng của train_labels_df chứa thông tin về độ chính xác trong việc trả lời câu hỏi (với một số thứ tự câu hỏi nào đó) của một phiên. \n",
    "\n",
    "**Ý nghĩa của từng cột trong dữ liệu**: \n",
    "\n",
    "|Tên cột|Ý nghĩa|\n",
    "|--------------------|--------------------------------------------------------------------------|\n",
    "|`session_id`|Mã số ID của một session kèm theo câu hỏi mà học sinh trong session đó đã trả lời|\n",
    "|`correct`|Kiểm tra độ chính xác trong việc trả lời câu hỏi của học sinh|"
   ]
  },
  {
   "cell_type": "markdown",
   "metadata": {
    "id": "ISfZBQQmnC1_"
   },
   "source": [
    "b. ``train_df`` \\\n",
    "*Chúng em chỉ xét 1 chunk trong train_df và các chunk khác cũng sẽ có ý nghĩa tương tự*"
   ]
  },
  {
   "cell_type": "code",
   "execution_count": 162,
   "metadata": {
    "colab": {
     "base_uri": "https://localhost:8080/"
    },
    "executionInfo": {
     "elapsed": 30,
     "status": "ok",
     "timestamp": 1702022366760,
     "user": {
      "displayName": "Minh Đức Đặng",
      "userId": "09569478104782124625"
     },
     "user_tz": -420
    },
    "id": "DpfAButukqSa",
    "outputId": "3ce9abe3-91e0-41a7-93d1-3fd3925b4b77"
   },
   "outputs": [
    {
     "name": "stdout",
     "output_type": "stream",
     "text": [
      "Các cột trong train_df: \n",
      "1 session_id\n",
      "2 index\n",
      "3 elapsed_time\n",
      "4 event_name\n",
      "5 name\n",
      "6 level\n",
      "7 page\n",
      "8 room_coor_x\n",
      "9 room_coor_y\n",
      "10 screen_coor_x\n",
      "11 screen_coor_y\n",
      "12 hover_duration\n",
      "13 text\n",
      "14 fqid\n",
      "15 room_fqid\n",
      "16 text_fqid\n",
      "17 fullscreen\n",
      "18 hq\n",
      "19 music\n",
      "20 level_group\n"
     ]
    }
   ],
   "source": [
    "# Trước hết chúng em sẽ xem tên của từng cột trong train_df\n",
    "train_col_name = train_df[0].columns\n",
    "\n",
    "# In tên của cột trong train_labels_df\n",
    "print('Các cột trong train_df: ')\n",
    "for i in range(0, len(train_col_name)):\n",
    "  print(i + 1, train_col_name[i])"
   ]
  },
  {
   "cell_type": "code",
   "execution_count": 163,
   "metadata": {
    "colab": {
     "base_uri": "https://localhost:8080/",
     "height": 399
    },
    "executionInfo": {
     "elapsed": 28,
     "status": "ok",
     "timestamp": 1702022366760,
     "user": {
      "displayName": "Minh Đức Đặng",
      "userId": "09569478104782124625"
     },
     "user_tz": -420
    },
    "id": "6ueuC_uufUWa",
    "outputId": "7fc30597-6630-43a3-f800-d2f30c9cfcbe"
   },
   "outputs": [
    {
     "data": {
      "text/html": [
       "<div>\n",
       "<style scoped>\n",
       "    .dataframe tbody tr th:only-of-type {\n",
       "        vertical-align: middle;\n",
       "    }\n",
       "\n",
       "    .dataframe tbody tr th {\n",
       "        vertical-align: top;\n",
       "    }\n",
       "\n",
       "    .dataframe thead th {\n",
       "        text-align: right;\n",
       "    }\n",
       "</style>\n",
       "<table border=\"1\" class=\"dataframe\">\n",
       "  <thead>\n",
       "    <tr style=\"text-align: right;\">\n",
       "      <th></th>\n",
       "      <th>session_id</th>\n",
       "      <th>index</th>\n",
       "      <th>elapsed_time</th>\n",
       "      <th>event_name</th>\n",
       "      <th>name</th>\n",
       "      <th>level</th>\n",
       "      <th>page</th>\n",
       "      <th>room_coor_x</th>\n",
       "      <th>room_coor_y</th>\n",
       "      <th>screen_coor_x</th>\n",
       "      <th>screen_coor_y</th>\n",
       "      <th>hover_duration</th>\n",
       "      <th>text</th>\n",
       "      <th>fqid</th>\n",
       "      <th>room_fqid</th>\n",
       "      <th>text_fqid</th>\n",
       "      <th>fullscreen</th>\n",
       "      <th>hq</th>\n",
       "      <th>music</th>\n",
       "      <th>level_group</th>\n",
       "    </tr>\n",
       "  </thead>\n",
       "  <tbody>\n",
       "    <tr>\n",
       "      <th>0</th>\n",
       "      <td>20090312431273200</td>\n",
       "      <td>0</td>\n",
       "      <td>0</td>\n",
       "      <td>cutscene_click</td>\n",
       "      <td>basic</td>\n",
       "      <td>0</td>\n",
       "      <td>NaN</td>\n",
       "      <td>-413.991405</td>\n",
       "      <td>-159.314686</td>\n",
       "      <td>380.0</td>\n",
       "      <td>494.0</td>\n",
       "      <td>NaN</td>\n",
       "      <td>undefined</td>\n",
       "      <td>intro</td>\n",
       "      <td>tunic.historicalsociety.closet</td>\n",
       "      <td>tunic.historicalsociety.closet.intro</td>\n",
       "      <td>0</td>\n",
       "      <td>0</td>\n",
       "      <td>1</td>\n",
       "      <td>0-4</td>\n",
       "    </tr>\n",
       "    <tr>\n",
       "      <th>1</th>\n",
       "      <td>20090312431273200</td>\n",
       "      <td>1</td>\n",
       "      <td>1323</td>\n",
       "      <td>person_click</td>\n",
       "      <td>basic</td>\n",
       "      <td>0</td>\n",
       "      <td>NaN</td>\n",
       "      <td>-413.991405</td>\n",
       "      <td>-159.314686</td>\n",
       "      <td>380.0</td>\n",
       "      <td>494.0</td>\n",
       "      <td>NaN</td>\n",
       "      <td>Whatcha doing over there, Jo?</td>\n",
       "      <td>gramps</td>\n",
       "      <td>tunic.historicalsociety.closet</td>\n",
       "      <td>tunic.historicalsociety.closet.gramps.intro_0_...</td>\n",
       "      <td>0</td>\n",
       "      <td>0</td>\n",
       "      <td>1</td>\n",
       "      <td>0-4</td>\n",
       "    </tr>\n",
       "    <tr>\n",
       "      <th>2</th>\n",
       "      <td>20090312431273200</td>\n",
       "      <td>2</td>\n",
       "      <td>831</td>\n",
       "      <td>person_click</td>\n",
       "      <td>basic</td>\n",
       "      <td>0</td>\n",
       "      <td>NaN</td>\n",
       "      <td>-413.991405</td>\n",
       "      <td>-159.314686</td>\n",
       "      <td>380.0</td>\n",
       "      <td>494.0</td>\n",
       "      <td>NaN</td>\n",
       "      <td>Just talking to Teddy.</td>\n",
       "      <td>gramps</td>\n",
       "      <td>tunic.historicalsociety.closet</td>\n",
       "      <td>tunic.historicalsociety.closet.gramps.intro_0_...</td>\n",
       "      <td>0</td>\n",
       "      <td>0</td>\n",
       "      <td>1</td>\n",
       "      <td>0-4</td>\n",
       "    </tr>\n",
       "    <tr>\n",
       "      <th>3</th>\n",
       "      <td>20090312431273200</td>\n",
       "      <td>3</td>\n",
       "      <td>1147</td>\n",
       "      <td>person_click</td>\n",
       "      <td>basic</td>\n",
       "      <td>0</td>\n",
       "      <td>NaN</td>\n",
       "      <td>-413.991405</td>\n",
       "      <td>-159.314686</td>\n",
       "      <td>380.0</td>\n",
       "      <td>494.0</td>\n",
       "      <td>NaN</td>\n",
       "      <td>I gotta run to my meeting!</td>\n",
       "      <td>gramps</td>\n",
       "      <td>tunic.historicalsociety.closet</td>\n",
       "      <td>tunic.historicalsociety.closet.gramps.intro_0_...</td>\n",
       "      <td>0</td>\n",
       "      <td>0</td>\n",
       "      <td>1</td>\n",
       "      <td>0-4</td>\n",
       "    </tr>\n",
       "    <tr>\n",
       "      <th>4</th>\n",
       "      <td>20090312431273200</td>\n",
       "      <td>4</td>\n",
       "      <td>1863</td>\n",
       "      <td>person_click</td>\n",
       "      <td>basic</td>\n",
       "      <td>0</td>\n",
       "      <td>NaN</td>\n",
       "      <td>-412.991405</td>\n",
       "      <td>-159.314686</td>\n",
       "      <td>381.0</td>\n",
       "      <td>494.0</td>\n",
       "      <td>NaN</td>\n",
       "      <td>Can I come, Gramps?</td>\n",
       "      <td>gramps</td>\n",
       "      <td>tunic.historicalsociety.closet</td>\n",
       "      <td>tunic.historicalsociety.closet.gramps.intro_0_...</td>\n",
       "      <td>0</td>\n",
       "      <td>0</td>\n",
       "      <td>1</td>\n",
       "      <td>0-4</td>\n",
       "    </tr>\n",
       "  </tbody>\n",
       "</table>\n",
       "</div>"
      ],
      "text/plain": [
       "          session_id  index  elapsed_time      event_name   name  level  page  \\\n",
       "0  20090312431273200      0             0  cutscene_click  basic      0   NaN   \n",
       "1  20090312431273200      1          1323    person_click  basic      0   NaN   \n",
       "2  20090312431273200      2           831    person_click  basic      0   NaN   \n",
       "3  20090312431273200      3          1147    person_click  basic      0   NaN   \n",
       "4  20090312431273200      4          1863    person_click  basic      0   NaN   \n",
       "\n",
       "   room_coor_x  room_coor_y  screen_coor_x  screen_coor_y  hover_duration  \\\n",
       "0  -413.991405  -159.314686          380.0          494.0             NaN   \n",
       "1  -413.991405  -159.314686          380.0          494.0             NaN   \n",
       "2  -413.991405  -159.314686          380.0          494.0             NaN   \n",
       "3  -413.991405  -159.314686          380.0          494.0             NaN   \n",
       "4  -412.991405  -159.314686          381.0          494.0             NaN   \n",
       "\n",
       "                            text    fqid                       room_fqid  \\\n",
       "0                      undefined   intro  tunic.historicalsociety.closet   \n",
       "1  Whatcha doing over there, Jo?  gramps  tunic.historicalsociety.closet   \n",
       "2         Just talking to Teddy.  gramps  tunic.historicalsociety.closet   \n",
       "3     I gotta run to my meeting!  gramps  tunic.historicalsociety.closet   \n",
       "4            Can I come, Gramps?  gramps  tunic.historicalsociety.closet   \n",
       "\n",
       "                                           text_fqid  fullscreen  hq  music  \\\n",
       "0               tunic.historicalsociety.closet.intro           0   0      1   \n",
       "1  tunic.historicalsociety.closet.gramps.intro_0_...           0   0      1   \n",
       "2  tunic.historicalsociety.closet.gramps.intro_0_...           0   0      1   \n",
       "3  tunic.historicalsociety.closet.gramps.intro_0_...           0   0      1   \n",
       "4  tunic.historicalsociety.closet.gramps.intro_0_...           0   0      1   \n",
       "\n",
       "  level_group  \n",
       "0         0-4  \n",
       "1         0-4  \n",
       "2         0-4  \n",
       "3         0-4  \n",
       "4         0-4  "
      ]
     },
     "execution_count": 163,
     "metadata": {},
     "output_type": "execute_result"
    }
   ],
   "source": [
    "# Trích 5 dòng của chunk đầu tiên của train_df\n",
    "train_df[0].head(5)"
   ]
  },
  {
   "cell_type": "markdown",
   "metadata": {
    "id": "7YKFRQPWhN0z"
   },
   "source": [
    "**Ý nghĩa của từng dòng trong dữ liệu**: Mỗi dòng của train_labels_df là thông tin của mỗi session trong trò chơi. Thông tin cụ thể nhóm em sẽ ghi trong phần **Ý nghĩa của từng cột trong dữ liệu**. \\\n",
    "**Ý nghĩa của từng cột trong dữ liệu**: \n",
    "\n",
    "|Tên cột|Ý nghĩa|\n",
    "|--------------------|--------------------------------------------------------------------------|\n",
    "|`session_id`|Mã số ID của một session|\n",
    "|`index`|Số thứ tự của sự kiện cho session đó|\n",
    "|`elapsed_time`|Thời gian từ lúc bắt đầu session đến lúc sự kiện được ghi nhận|\n",
    "|`event_name`|Tên loại sự kiện|\n",
    "|`name`|Tên sự kiện|\n",
    "|`level`|Cấp độ mà sự kiện đạt đến trong game|\n",
    "|`page`|Số trang của sự kiện|\n",
    "|`room_coor_x`|Tọa độ trục hoành mà học sinh ấn chuột trong phòng chơi|\n",
    "|`room_coor_y`|Tọa độ trục tung mà học sinh ấn chuột trong phòng chơi|\n",
    "|`screen_coor_x`|Tọa độ trục hoành mà học sinh ấn chuột trên màn hình|\n",
    "|`screen_coor_y`|Tọa độ trục tung mà học sinh ấn chuột trên màn hình|\n",
    "|`hover_duration`|Thời gian di chuyển chuột (được tính bằng mi-li-giây)|\n",
    "|`text`|Nội dung mà người chơi sẽ thấy trong quá trình sự kiện diễn tra trong trò chơi|\n",
    "|`fqid`|Mã số ID đầy đủ của một sự kiện|\n",
    "|`room_fqid`|Mã số ID đầy đủ của phòng mà học sinh nhấp chuột vào|\n",
    "|`text_fqid`|Mã số ID đầy đủ của nội dung mà người chơi sẽ thấy trong quá trình sự kiện diễn tra trong trò chơi|\n",
    "|`fullscreen`|Kiểm tra xem học sinh có để chế độ toàn màn hình hay không|\n",
    "|`hq`|Kiểm tra chất lượng của trò chơi có cao hay không|\n",
    "|`music`|Kiểm tra học sinh có bật nhạc trong quá trình chơi hay không|\n",
    "|`level_group`|Phạm vi cấp độ - và phạm vi các câu hỏi mà học sinh đạt được|\n"
   ]
  },
  {
   "cell_type": "markdown",
   "metadata": {
    "id": "onYuBnQ1Fjsw"
   },
   "source": [
    "*3. Kiểu dữ liệu của từng cột*"
   ]
  },
  {
   "cell_type": "markdown",
   "metadata": {
    "id": "wXoYtr74Hz9q"
   },
   "source": [
    "a. ``train_labels_df``"
   ]
  },
  {
   "cell_type": "code",
   "execution_count": 164,
   "metadata": {
    "colab": {
     "base_uri": "https://localhost:8080/"
    },
    "executionInfo": {
     "elapsed": 28,
     "status": "ok",
     "timestamp": 1702022366761,
     "user": {
      "displayName": "Minh Đức Đặng",
      "userId": "09569478104782124625"
     },
     "user_tz": -420
    },
    "id": "XH53Ns35HknX",
    "outputId": "e04b4df7-c018-4c42-a8f7-6e21b2ba4da4"
   },
   "outputs": [
    {
     "data": {
      "text/plain": [
       "session_id    object\n",
       "correct        int64\n",
       "dtype: object"
      ]
     },
     "execution_count": 164,
     "metadata": {},
     "output_type": "execute_result"
    }
   ],
   "source": [
    "# In ra kiểu dữ liệu của từng cột của train_labels_df\n",
    "train_labels_df.dtypes"
   ]
  },
  {
   "cell_type": "markdown",
   "metadata": {
    "id": "02QerMWoH1LV"
   },
   "source": [
    "b. ``train_df``"
   ]
  },
  {
   "cell_type": "code",
   "execution_count": 165,
   "metadata": {
    "colab": {
     "base_uri": "https://localhost:8080/"
    },
    "executionInfo": {
     "elapsed": 26,
     "status": "ok",
     "timestamp": 1702022366761,
     "user": {
      "displayName": "Minh Đức Đặng",
      "userId": "09569478104782124625"
     },
     "user_tz": -420
    },
    "id": "WIKxzldNH1kP",
    "outputId": "32a44b44-b593-443d-99d2-87f9f6ccbe8d"
   },
   "outputs": [
    {
     "data": {
      "text/plain": [
       "session_id          int64\n",
       "index               int64\n",
       "elapsed_time        int64\n",
       "event_name         object\n",
       "name               object\n",
       "level               int64\n",
       "page              float64\n",
       "room_coor_x       float64\n",
       "room_coor_y       float64\n",
       "screen_coor_x     float64\n",
       "screen_coor_y     float64\n",
       "hover_duration    float64\n",
       "text               object\n",
       "fqid               object\n",
       "room_fqid          object\n",
       "text_fqid          object\n",
       "fullscreen          int64\n",
       "hq                  int64\n",
       "music               int64\n",
       "level_group        object\n",
       "dtype: object"
      ]
     },
     "execution_count": 165,
     "metadata": {},
     "output_type": "execute_result"
    }
   ],
   "source": [
    "# In ra kiểu dữ liệu của từng cột của test_df\n",
    "train_df[0].dtypes"
   ]
  },
  {
   "cell_type": "markdown",
   "metadata": {
    "id": "xQkCb6sTI6ep"
   },
   "source": [
    "**Nhận xét chung cho cả `train_labels_df` lẫn `train_df`**:\n",
    "- Ở `train_labels_df` có `session_id` có kiểu dữ liệu là `object` và `correct` có kiểu dữ liệu là `int64` (kiểu số).\n",
    "- Ở `train_df` có `event_name`, `name`, `text`, `fqiq`, `room_fqid`, `text_fqid` và `level_group` đều là kiểu dữ liệu `object`, còn lại là kiểu số (`int64` hay `float64`).\n",
    "- Trên thực tế, nếu cột nào có kiểu dữ liệu `object` thì các phần tử của cột đó đều có một hoặc nhiều kiểu dữ liệu khác nhau. Để kiểm tra xem cột có kiểu dữ liệu `object` có hợp lý hay không, chúng em sẽ thực hiện code sau."
   ]
  },
  {
   "cell_type": "code",
   "execution_count": 166,
   "metadata": {
    "colab": {
     "base_uri": "https://localhost:8080/"
    },
    "executionInfo": {
     "elapsed": 24,
     "status": "ok",
     "timestamp": 1702022366761,
     "user": {
      "displayName": "Minh Đức Đặng",
      "userId": "09569478104782124625"
     },
     "user_tz": -420
    },
    "id": "qqxB4gfQY_04",
    "outputId": "bdee5feb-e5c9-4b96-dd59-f957f19100c5"
   },
   "outputs": [
    {
     "name": "stdout",
     "output_type": "stream",
     "text": [
      "Cột 'session_id' có thể có các kiểu dữ liệu: {<class 'str'>}\n"
     ]
    }
   ],
   "source": [
    "# Kiểm tra xem cột có kiểu dữ liệu object (session_id) trong train_labels_df có hợp lý hay không\n",
    "for col_name in train_labels_df.columns:\n",
    "    col = train_labels_df[col_name]\n",
    "    if col.dtype == 'object':\n",
    "      dtype_set = set()\n",
    "      train_labels_df[col_name].apply(lambda dt: dtype_set.add(type(dt)))\n",
    "      print(f\"Cột '{col_name}' có thể có các kiểu dữ liệu: {dtype_set}\")"
   ]
  },
  {
   "cell_type": "markdown",
   "metadata": {
    "id": "Ef06KwKIa2PF"
   },
   "source": [
    "Từ đây, có thể thấy rằng kiểu dữ liệu `object` đối với cột `session_id` hợp lý vì cột này là mã số ID lẫn câu hỏi nên khi chúng em quan sát dữ liệu trước đó, chúng em nhận ra ngay rằng cột `session_id` phải là dạng chuỗi."
   ]
  },
  {
   "cell_type": "code",
   "execution_count": 167,
   "metadata": {
    "colab": {
     "base_uri": "https://localhost:8080/"
    },
    "executionInfo": {
     "elapsed": 22,
     "status": "ok",
     "timestamp": 1702022366761,
     "user": {
      "displayName": "Minh Đức Đặng",
      "userId": "09569478104782124625"
     },
     "user_tz": -420
    },
    "id": "QJQm7Ra5a28k",
    "outputId": "b9f1050b-47b4-461c-c233-800be9ad64de"
   },
   "outputs": [
    {
     "name": "stdout",
     "output_type": "stream",
     "text": [
      "Cột 'event_name' có thể có các kiểu dữ liệu: {<class 'str'>}\n"
     ]
    },
    {
     "name": "stdout",
     "output_type": "stream",
     "text": [
      "Cột 'name' có thể có các kiểu dữ liệu: {<class 'str'>}\n",
      "Cột 'text' có thể có các kiểu dữ liệu: {<class 'str'>, <class 'float'>}\n",
      "Cột 'fqid' có thể có các kiểu dữ liệu: {<class 'str'>, <class 'float'>}\n",
      "Cột 'room_fqid' có thể có các kiểu dữ liệu: {<class 'str'>}\n",
      "Cột 'text_fqid' có thể có các kiểu dữ liệu: {<class 'str'>, <class 'float'>}\n",
      "Cột 'level_group' có thể có các kiểu dữ liệu: {<class 'str'>}\n"
     ]
    }
   ],
   "source": [
    "# Kiểm tra xem cột có kiểu dữ liệu object (event_name, name, text, fqiq, room_fqid, text_fqid và level_group) trong train_df có hợp lý hay không\n",
    "for col_name in train_df[0].columns:\n",
    "    col = train_df[0][col_name]\n",
    "    if col.dtype == 'object':\n",
    "      dtype_set = set()\n",
    "      train_df[0][col_name].apply(lambda dt: dtype_set.add(type(dt)))\n",
    "      print(f\"Cột '{col_name}' có thể có các kiểu dữ liệu: {dtype_set}\")"
   ]
  },
  {
   "cell_type": "markdown",
   "metadata": {
    "id": "HO4606GAbi88"
   },
   "source": [
    "Từ đây, có thể thấy rằng kiểu dữ liệu `object` đối với các cột `event_name`, `name`, `room_fqid` và `level_group` hợp lý vì những cột này là mã số ID hoặc tên nên khi chúng em quan sát dữ liệu trước đó, chúng em nhận ra ngay rằng cả bốn cột đều phải là dạng chuỗi. \\\n",
    "Còn kiểu dữ liệu `object` đối với các cột `text`, `fqid` và `text_fqid` không hợp lý vì như chúng em thấy các cột này đều có thể có 2 kiểu dữ liệu. Từ điều này chúng em sẽ tiền xử lý dữ liệu sao cho các cột đều có kiểu dữ liệu hợp lý."
   ]
  },
  {
   "cell_type": "markdown",
   "metadata": {
    "id": "sejM6cR6hOOo"
   },
   "source": [
    "*4. Kiểm tra sự bất thường trong dữ liệu* \\\n",
    "*Đây cũng chính là những cơ sở để nhóm em tiền xử lý dữ liệu.*"
   ]
  },
  {
   "cell_type": "markdown",
   "metadata": {
    "id": "lhd2C_G9CNNP"
   },
   "source": [
    "a. ``train_labels_df``"
   ]
  },
  {
   "cell_type": "markdown",
   "metadata": {
    "id": "USXmFcTNQMKA"
   },
   "source": [
    "a.1. Kiểm tra dữ liệu bị trùng lặp"
   ]
  },
  {
   "cell_type": "code",
   "execution_count": 168,
   "metadata": {
    "colab": {
     "base_uri": "https://localhost:8080/"
    },
    "executionInfo": {
     "elapsed": 20,
     "status": "ok",
     "timestamp": 1702022366761,
     "user": {
      "displayName": "Minh Đức Đặng",
      "userId": "09569478104782124625"
     },
     "user_tz": -420
    },
    "id": "HiWx6Y6gRzNr",
    "outputId": "098a65da-fdc1-4a75-e825-0e248a26a648"
   },
   "outputs": [
    {
     "data": {
      "text/plain": [
       "False"
      ]
     },
     "execution_count": 168,
     "metadata": {},
     "output_type": "execute_result"
    }
   ],
   "source": [
    "# Kiểm tra xem có dòng nào bị trùng lặp trong train_labels_df hay không bằng cách sử dụng duplicated và lấy unique, chọn phần tử cuối cùng\n",
    "train_labels_df.duplicated().unique()[-1]"
   ]
  },
  {
   "cell_type": "markdown",
   "metadata": {
    "id": "PnZGpeZ2TuRh"
   },
   "source": [
    "Điều đó chứng tỏ dữ liệu không bị trùng lặp."
   ]
  },
  {
   "cell_type": "markdown",
   "metadata": {
    "id": "gwUduRjkQHVt"
   },
   "source": [
    "a.2. Kiểm tra cột bị thiếu dữ liệu"
   ]
  },
  {
   "cell_type": "code",
   "execution_count": 169,
   "metadata": {
    "colab": {
     "base_uri": "https://localhost:8080/"
    },
    "executionInfo": {
     "elapsed": 18,
     "status": "ok",
     "timestamp": 1702022366761,
     "user": {
      "displayName": "Minh Đức Đặng",
      "userId": "09569478104782124625"
     },
     "user_tz": -420
    },
    "id": "NfmuZb0uFtwg",
    "outputId": "47ff31e1-1043-4b78-861e-e3f70362186d"
   },
   "outputs": [
    {
     "name": "stdout",
     "output_type": "stream",
     "text": [
      "<class 'pandas.core.frame.DataFrame'>\n",
      "RangeIndex: 424116 entries, 0 to 424115\n",
      "Data columns (total 2 columns):\n",
      " #   Column      Non-Null Count   Dtype \n",
      "---  ------      --------------   ----- \n",
      " 0   session_id  424116 non-null  object\n",
      " 1   correct     424116 non-null  int64 \n",
      "dtypes: int64(1), object(1)\n",
      "memory usage: 6.5+ MB\n"
     ]
    }
   ],
   "source": [
    "# Kiểm tra xem có cột nào bị thiếu trong train_labels_df hay không bằng cách sử dụng info\n",
    "train_labels_df.info()"
   ]
  },
  {
   "cell_type": "markdown",
   "metadata": {
    "id": "tQKTpzveP-sO"
   },
   "source": [
    "Sau quá trình quan sát thông tin trên, chúng em thấy rằng không có cột nào thiếu dữ liệu."
   ]
  },
  {
   "cell_type": "markdown",
   "metadata": {
    "id": "ar0-phYGCVQF"
   },
   "source": [
    "b. ``train_df``"
   ]
  },
  {
   "cell_type": "markdown",
   "metadata": {
    "id": "rA_QZRngR1PJ"
   },
   "source": [
    "b.1. Kiểm tra dữ liệu bị trùng lặp"
   ]
  },
  {
   "cell_type": "code",
   "execution_count": 170,
   "metadata": {
    "colab": {
     "base_uri": "https://localhost:8080/"
    },
    "executionInfo": {
     "elapsed": 16,
     "status": "ok",
     "timestamp": 1702022366761,
     "user": {
      "displayName": "Minh Đức Đặng",
      "userId": "09569478104782124625"
     },
     "user_tz": -420
    },
    "id": "KKHl534qSG47",
    "outputId": "429806ba-b113-4ad7-f880-2864a153ef39"
   },
   "outputs": [
    {
     "name": "stdout",
     "output_type": "stream",
     "text": [
      "Điều đó chứng tỏ dữ liệu không bị trùng lặp.\n"
     ]
    }
   ],
   "source": [
    "# Kiểm tra dòng trùng lặp cho từng chunk và tổng hợp lại nguyên train_df có trùng lặp không\n",
    "check_duplicate_each_chunk = [train_df_chunk.duplicated().unique()[-1] for train_df_chunk in train_df]\n",
    "if 'True' in check_duplicate_each_chunk:\n",
    "    print('Điều đó chứng tỏ dữ liệu bị trùng lặp.')\n",
    "else:\n",
    "    print('Điều đó chứng tỏ dữ liệu không bị trùng lặp.')"
   ]
  },
  {
   "cell_type": "markdown",
   "metadata": {
    "id": "_YDOBjZpR4NR"
   },
   "source": [
    "b.2. Kiểm tra cột bị thiếu dữ liệu"
   ]
  },
  {
   "cell_type": "code",
   "execution_count": 171,
   "metadata": {
    "colab": {
     "base_uri": "https://localhost:8080/"
    },
    "executionInfo": {
     "elapsed": 14,
     "status": "ok",
     "timestamp": 1702022366761,
     "user": {
      "displayName": "Minh Đức Đặng",
      "userId": "09569478104782124625"
     },
     "user_tz": -420
    },
    "id": "tF8qJWaFFuMm",
    "outputId": "089c0004-d819-4462-c855-75de633801c3"
   },
   "outputs": [
    {
     "data": {
      "text/plain": [
       "[session_id              0\n",
       " index                   0\n",
       " elapsed_time            0\n",
       " event_name              0\n",
       " name                    0\n",
       " level                   0\n",
       " page              1957805\n",
       " room_coor_x        173061\n",
       " room_coor_y        173061\n",
       " screen_coor_x      173061\n",
       " screen_coor_y      173061\n",
       " hover_duration    1832315\n",
       " text              1273769\n",
       " fqid               621036\n",
       " room_fqid               0\n",
       " text_fqid         1273762\n",
       " fullscreen              0\n",
       " hq                      0\n",
       " music                   0\n",
       " level_group             0\n",
       " dtype: int64,\n",
       " session_id              0\n",
       " index                   0\n",
       " elapsed_time            0\n",
       " event_name              0\n",
       " name                    0\n",
       " level                   0\n",
       " page              1954106\n",
       " room_coor_x        170803\n",
       " room_coor_y        170803\n",
       " screen_coor_x      170803\n",
       " screen_coor_y      170803\n",
       " hover_duration    1834463\n",
       " text              1287165\n",
       " fqid               632767\n",
       " room_fqid               0\n",
       " text_fqid         1287164\n",
       " fullscreen              0\n",
       " hq                      0\n",
       " music                   0\n",
       " level_group             0\n",
       " dtype: int64,\n",
       " session_id              0\n",
       " index                   0\n",
       " elapsed_time            0\n",
       " event_name              0\n",
       " name                    0\n",
       " level                   0\n",
       " page              1957825\n",
       " room_coor_x        172211\n",
       " room_coor_y        172211\n",
       " screen_coor_x      172211\n",
       " screen_coor_y      172211\n",
       " hover_duration    1833210\n",
       " text              1269122\n",
       " fqid               625789\n",
       " room_fqid               0\n",
       " text_fqid         1269114\n",
       " fullscreen              0\n",
       " hq                      0\n",
       " music                   0\n",
       " level_group             0\n",
       " dtype: int64,\n",
       " session_id              0\n",
       " index                   0\n",
       " elapsed_time            0\n",
       " event_name              0\n",
       " name                    0\n",
       " level                   0\n",
       " page              1957888\n",
       " room_coor_x        170286\n",
       " room_coor_y        170286\n",
       " screen_coor_x      170286\n",
       " screen_coor_y      170286\n",
       " hover_duration    1835092\n",
       " text              1272467\n",
       " fqid               623954\n",
       " room_fqid               0\n",
       " text_fqid         1272463\n",
       " fullscreen              0\n",
       " hq                      0\n",
       " music                   0\n",
       " level_group             0\n",
       " dtype: int64,\n",
       " session_id              0\n",
       " index                   0\n",
       " elapsed_time            0\n",
       " event_name              0\n",
       " name                    0\n",
       " level                   0\n",
       " page              1958799\n",
       " room_coor_x        159254\n",
       " room_coor_y        159254\n",
       " screen_coor_x      159254\n",
       " screen_coor_y      159254\n",
       " hover_duration    1846115\n",
       " text              1274310\n",
       " fqid               627710\n",
       " room_fqid               0\n",
       " text_fqid         1274295\n",
       " fullscreen              0\n",
       " hq                      0\n",
       " music                   0\n",
       " level_group             0\n",
       " dtype: int64]"
      ]
     },
     "execution_count": 171,
     "metadata": {},
     "output_type": "execute_result"
    }
   ],
   "source": [
    "# Kiểm tra xem có cột nào bị thiếu trong train_df hay không bằng cách sử dụng isnull().sum(), in ra 5 chunk đầu tiên và các chunk khác cũng sẽ tương tự \n",
    "chunk_info = [train_df_chunk.isnull().sum() for train_df_chunk in train_df]\n",
    "chunk_info[0:5]"
   ]
  },
  {
   "cell_type": "markdown",
   "metadata": {
    "id": "4E0628OuQ1HT"
   },
   "source": [
    "Sau quá trình quan sát thông tin trên, nhìn chung, chúng em thấy rằng các cột `page`, `room_coor_x`,`room_coor_y`, `screen_coor_x`, `screen_coor_y`, `hover_duration`, `text`, `fqid` và `text_fqid` thiếu dữ liệu, còn lại không thiếu."
   ]
  },
  {
   "cell_type": "markdown",
   "metadata": {
    "id": "-_o3iBxzugsR"
   },
   "source": [
    "#### Quá trình tiền xử lý dữ liệu ####"
   ]
  },
  {
   "cell_type": "markdown",
   "metadata": {
    "id": "UyzbUNfrUhba"
   },
   "source": [
    "a. `train_labels_df`"
   ]
  },
  {
   "cell_type": "markdown",
   "metadata": {},
   "source": [
    "Dữ liệu ở bảng này đã chuẩn nên không cần phải tiến hành chỉnh sửa mà ta sẽ dùng nó để kết hợp với dữ liệu được tiền xử lí của train_df để tạo bộ X_train cho mô hình"
   ]
  },
  {
   "cell_type": "markdown",
   "metadata": {
    "id": "uNFEt38qUk4b"
   },
   "source": [
    "b. `train_df` \\\n",
    "*Đối với dữ liệu này, sau khi mỗi bước tiền xử lý dữ liệu, chúng em chỉ test ở chunk đầu tiên để tránh bị trục trặc trong quá trình chạy code* "
   ]
  },
  {
   "cell_type": "markdown",
   "metadata": {
    "id": "UR32Q09ov6C8"
   },
   "source": [
    "- Trước hết, vì chúng em thấy rằng cột ``page`` và cột ``text`` không mang lại ý nghĩa quan trọng cho việc xử lý nên chúng em sẽ tiến hành xóa hai cột này\n",
    "- Tiếp đến, chúng em sẽ tiền xử lý với những cột có dữ liệu bị thiếu, bao gồm các cột `room_coor_x`,`room_coor_y`, `screen_coor_x`, `screen_coor_y`, `hover_duration`, `fqid` và `text_fqid` bằng cách điền chúng. Chúng em đề xuất điền dữ liệu bị thiếu đối với các cột đó như sau: \\\n",
    "\n",
    "|Tên cột|Đề xuất|\n",
    "|--------------------|--------------------------------------------------------------------------|\n",
    "|`room_coor_x`|Điền tọa độ nhỏ nhất trong cột|\n",
    "|`room_coor_y`|Điền tọa độ nhỏ nhất trong cột|\n",
    "|`screen_coor_x`|Điền tọa độ nhỏ nhất trong cột|\n",
    "|`screen_coor_y`|Điền tọa độ nhỏ nhất trong cột|\n",
    "|`hover_duration`|Điền là -1 (để phân biệt thời gian xác định (>= 0) và thời gian không xác định)|\n",
    "|`fqid`|Điền là `undefined_fqid`|\n",
    "|`text_fqid`|Điền là `undefined_text_fqid`|\n",
    "\n",
    "- Cuối cùng, đối với các cột có kiểu dữ liệu `object`, trong đó có thể có 2 kiểu dữ liệu như các cột `text`, `fqid` và `text_fqid`, ta sẽ chuyển kiểu dữ liệu `object` thành một kiểu dữ liệu thống nhất. Từ việc quan sát dữ liệu, chúng em nhận ra rằng cả ba cột này đều có dạng là chuỗi vì đó là những cột mang ý nghĩa là *mã ID và nội dung*. Sau đó khi in thông tin bằng hàm info, ta sẽ thấy nó vẫn là object nên chúng em sẽ lấy lại dòng code kiểm tra hợp lý của kiểu dữ liệu object ở phần III.3.b để xem nó đã thành kiểu dữ liệu `str` chưa."
   ]
  },
  {
   "cell_type": "code",
   "execution_count": 172,
   "metadata": {
    "colab": {
     "base_uri": "https://localhost:8080/",
     "height": 443
    },
    "executionInfo": {
     "elapsed": 21,
     "status": "ok",
     "timestamp": 1702022368624,
     "user": {
      "displayName": "Minh Đức Đặng",
      "userId": "09569478104782124625"
     },
     "user_tz": -420
    },
    "id": "6pPDdEBmv6iW",
    "outputId": "5622aabb-be3f-4705-e344-609b7646f14e"
   },
   "outputs": [],
   "source": [
    "# Thực hiện việc tiền xử lý dữ liệu cho train_df\n",
    "for i in range(len(train_df)):\n",
    "    #Xóa cột page và text in ra sau khi xóa\n",
    "    train_df[i] = train_df[i].drop(columns=['page', 'text'])\n",
    "    # Điền dữ liệu bị thiếu đối với các cột room_coor_x,room_coor_y, screen_coor_x, screen_coor_y, hover_duration, fqid và text_fqid\n",
    "    train_df[i] = train_df[i].fillna(value={'room_coor_x': train_df_chunk['room_coor_x'].min(), 'room_coor_y': train_df_chunk['room_coor_y'].min(),\n",
    "                                      'screen_coor_x': train_df_chunk['screen_coor_x'].min(), 'screen_coor_y': train_df_chunk['screen_coor_y'].min(),\n",
    "                                      'hover_duration': -1, 'fqid': 'undefined_fqid', 'text_fqid': 'undefined_text_fqid'}) \n",
    "    # Chuyển đổi kiểu dữ liệu sang str đối với cột fqid và text_fqid\n",
    "    train_df[i]['fqid'] = train_df[i]['fqid'].astype('str')\n",
    "    train_df[i]['text_fqid'] = train_df[i]['text_fqid'].astype('str')"
   ]
  },
  {
   "cell_type": "code",
   "execution_count": 173,
   "metadata": {},
   "outputs": [
    {
     "data": {
      "text/html": [
       "<div>\n",
       "<style scoped>\n",
       "    .dataframe tbody tr th:only-of-type {\n",
       "        vertical-align: middle;\n",
       "    }\n",
       "\n",
       "    .dataframe tbody tr th {\n",
       "        vertical-align: top;\n",
       "    }\n",
       "\n",
       "    .dataframe thead th {\n",
       "        text-align: right;\n",
       "    }\n",
       "</style>\n",
       "<table border=\"1\" class=\"dataframe\">\n",
       "  <thead>\n",
       "    <tr style=\"text-align: right;\">\n",
       "      <th></th>\n",
       "      <th>session_id</th>\n",
       "      <th>index</th>\n",
       "      <th>elapsed_time</th>\n",
       "      <th>event_name</th>\n",
       "      <th>name</th>\n",
       "      <th>level</th>\n",
       "      <th>room_coor_x</th>\n",
       "      <th>room_coor_y</th>\n",
       "      <th>screen_coor_x</th>\n",
       "      <th>screen_coor_y</th>\n",
       "      <th>hover_duration</th>\n",
       "      <th>fqid</th>\n",
       "      <th>room_fqid</th>\n",
       "      <th>text_fqid</th>\n",
       "      <th>fullscreen</th>\n",
       "      <th>hq</th>\n",
       "      <th>music</th>\n",
       "      <th>level_group</th>\n",
       "    </tr>\n",
       "  </thead>\n",
       "  <tbody>\n",
       "    <tr>\n",
       "      <th>0</th>\n",
       "      <td>20090312431273200</td>\n",
       "      <td>0</td>\n",
       "      <td>0</td>\n",
       "      <td>cutscene_click</td>\n",
       "      <td>basic</td>\n",
       "      <td>0</td>\n",
       "      <td>-413.991405</td>\n",
       "      <td>-159.314686</td>\n",
       "      <td>380.0</td>\n",
       "      <td>494.0</td>\n",
       "      <td>-1.0</td>\n",
       "      <td>intro</td>\n",
       "      <td>tunic.historicalsociety.closet</td>\n",
       "      <td>tunic.historicalsociety.closet.intro</td>\n",
       "      <td>0</td>\n",
       "      <td>0</td>\n",
       "      <td>1</td>\n",
       "      <td>0-4</td>\n",
       "    </tr>\n",
       "    <tr>\n",
       "      <th>1</th>\n",
       "      <td>20090312431273200</td>\n",
       "      <td>1</td>\n",
       "      <td>1323</td>\n",
       "      <td>person_click</td>\n",
       "      <td>basic</td>\n",
       "      <td>0</td>\n",
       "      <td>-413.991405</td>\n",
       "      <td>-159.314686</td>\n",
       "      <td>380.0</td>\n",
       "      <td>494.0</td>\n",
       "      <td>-1.0</td>\n",
       "      <td>gramps</td>\n",
       "      <td>tunic.historicalsociety.closet</td>\n",
       "      <td>tunic.historicalsociety.closet.gramps.intro_0_...</td>\n",
       "      <td>0</td>\n",
       "      <td>0</td>\n",
       "      <td>1</td>\n",
       "      <td>0-4</td>\n",
       "    </tr>\n",
       "    <tr>\n",
       "      <th>2</th>\n",
       "      <td>20090312431273200</td>\n",
       "      <td>2</td>\n",
       "      <td>831</td>\n",
       "      <td>person_click</td>\n",
       "      <td>basic</td>\n",
       "      <td>0</td>\n",
       "      <td>-413.991405</td>\n",
       "      <td>-159.314686</td>\n",
       "      <td>380.0</td>\n",
       "      <td>494.0</td>\n",
       "      <td>-1.0</td>\n",
       "      <td>gramps</td>\n",
       "      <td>tunic.historicalsociety.closet</td>\n",
       "      <td>tunic.historicalsociety.closet.gramps.intro_0_...</td>\n",
       "      <td>0</td>\n",
       "      <td>0</td>\n",
       "      <td>1</td>\n",
       "      <td>0-4</td>\n",
       "    </tr>\n",
       "    <tr>\n",
       "      <th>3</th>\n",
       "      <td>20090312431273200</td>\n",
       "      <td>3</td>\n",
       "      <td>1147</td>\n",
       "      <td>person_click</td>\n",
       "      <td>basic</td>\n",
       "      <td>0</td>\n",
       "      <td>-413.991405</td>\n",
       "      <td>-159.314686</td>\n",
       "      <td>380.0</td>\n",
       "      <td>494.0</td>\n",
       "      <td>-1.0</td>\n",
       "      <td>gramps</td>\n",
       "      <td>tunic.historicalsociety.closet</td>\n",
       "      <td>tunic.historicalsociety.closet.gramps.intro_0_...</td>\n",
       "      <td>0</td>\n",
       "      <td>0</td>\n",
       "      <td>1</td>\n",
       "      <td>0-4</td>\n",
       "    </tr>\n",
       "    <tr>\n",
       "      <th>4</th>\n",
       "      <td>20090312431273200</td>\n",
       "      <td>4</td>\n",
       "      <td>1863</td>\n",
       "      <td>person_click</td>\n",
       "      <td>basic</td>\n",
       "      <td>0</td>\n",
       "      <td>-412.991405</td>\n",
       "      <td>-159.314686</td>\n",
       "      <td>381.0</td>\n",
       "      <td>494.0</td>\n",
       "      <td>-1.0</td>\n",
       "      <td>gramps</td>\n",
       "      <td>tunic.historicalsociety.closet</td>\n",
       "      <td>tunic.historicalsociety.closet.gramps.intro_0_...</td>\n",
       "      <td>0</td>\n",
       "      <td>0</td>\n",
       "      <td>1</td>\n",
       "      <td>0-4</td>\n",
       "    </tr>\n",
       "    <tr>\n",
       "      <th>...</th>\n",
       "      <td>...</td>\n",
       "      <td>...</td>\n",
       "      <td>...</td>\n",
       "      <td>...</td>\n",
       "      <td>...</td>\n",
       "      <td>...</td>\n",
       "      <td>...</td>\n",
       "      <td>...</td>\n",
       "      <td>...</td>\n",
       "      <td>...</td>\n",
       "      <td>...</td>\n",
       "      <td>...</td>\n",
       "      <td>...</td>\n",
       "      <td>...</td>\n",
       "      <td>...</td>\n",
       "      <td>...</td>\n",
       "      <td>...</td>\n",
       "      <td>...</td>\n",
       "    </tr>\n",
       "    <tr>\n",
       "      <th>1999995</th>\n",
       "      <td>20110211310637800</td>\n",
       "      <td>472</td>\n",
       "      <td>802324</td>\n",
       "      <td>navigate_click</td>\n",
       "      <td>undefined</td>\n",
       "      <td>9</td>\n",
       "      <td>-0.443521</td>\n",
       "      <td>108.000000</td>\n",
       "      <td>442.0</td>\n",
       "      <td>222.0</td>\n",
       "      <td>-1.0</td>\n",
       "      <td>reader</td>\n",
       "      <td>tunic.library.microfiche</td>\n",
       "      <td>undefined_text_fqid</td>\n",
       "      <td>0</td>\n",
       "      <td>0</td>\n",
       "      <td>1</td>\n",
       "      <td>5-12</td>\n",
       "    </tr>\n",
       "    <tr>\n",
       "      <th>1999996</th>\n",
       "      <td>20110211310637800</td>\n",
       "      <td>473</td>\n",
       "      <td>802625</td>\n",
       "      <td>navigate_click</td>\n",
       "      <td>undefined</td>\n",
       "      <td>9</td>\n",
       "      <td>-24.435286</td>\n",
       "      <td>114.000000</td>\n",
       "      <td>420.0</td>\n",
       "      <td>216.0</td>\n",
       "      <td>-1.0</td>\n",
       "      <td>reader</td>\n",
       "      <td>tunic.library.microfiche</td>\n",
       "      <td>undefined_text_fqid</td>\n",
       "      <td>0</td>\n",
       "      <td>0</td>\n",
       "      <td>1</td>\n",
       "      <td>5-12</td>\n",
       "    </tr>\n",
       "    <tr>\n",
       "      <th>1999997</th>\n",
       "      <td>20110211310637800</td>\n",
       "      <td>474</td>\n",
       "      <td>802900</td>\n",
       "      <td>navigate_click</td>\n",
       "      <td>undefined</td>\n",
       "      <td>9</td>\n",
       "      <td>-49.537675</td>\n",
       "      <td>98.000000</td>\n",
       "      <td>396.0</td>\n",
       "      <td>232.0</td>\n",
       "      <td>-1.0</td>\n",
       "      <td>reader</td>\n",
       "      <td>tunic.library.microfiche</td>\n",
       "      <td>undefined_text_fqid</td>\n",
       "      <td>0</td>\n",
       "      <td>0</td>\n",
       "      <td>1</td>\n",
       "      <td>5-12</td>\n",
       "    </tr>\n",
       "    <tr>\n",
       "      <th>1999998</th>\n",
       "      <td>20110211310637800</td>\n",
       "      <td>475</td>\n",
       "      <td>803451</td>\n",
       "      <td>object_hover</td>\n",
       "      <td>basic</td>\n",
       "      <td>9</td>\n",
       "      <td>-1973.059803</td>\n",
       "      <td>-914.364030</td>\n",
       "      <td>0.0</td>\n",
       "      <td>0.0</td>\n",
       "      <td>525.0</td>\n",
       "      <td>reader</td>\n",
       "      <td>tunic.library.microfiche</td>\n",
       "      <td>undefined_text_fqid</td>\n",
       "      <td>0</td>\n",
       "      <td>0</td>\n",
       "      <td>1</td>\n",
       "      <td>5-12</td>\n",
       "    </tr>\n",
       "    <tr>\n",
       "      <th>1999999</th>\n",
       "      <td>20110211310637800</td>\n",
       "      <td>476</td>\n",
       "      <td>805500</td>\n",
       "      <td>object_hover</td>\n",
       "      <td>undefined</td>\n",
       "      <td>9</td>\n",
       "      <td>-1973.059803</td>\n",
       "      <td>-914.364030</td>\n",
       "      <td>0.0</td>\n",
       "      <td>0.0</td>\n",
       "      <td>75.0</td>\n",
       "      <td>reader.paper0.next</td>\n",
       "      <td>tunic.library.microfiche</td>\n",
       "      <td>undefined_text_fqid</td>\n",
       "      <td>0</td>\n",
       "      <td>0</td>\n",
       "      <td>1</td>\n",
       "      <td>5-12</td>\n",
       "    </tr>\n",
       "  </tbody>\n",
       "</table>\n",
       "<p>2000000 rows × 18 columns</p>\n",
       "</div>"
      ],
      "text/plain": [
       "                session_id  index  elapsed_time      event_name       name  \\\n",
       "0        20090312431273200      0             0  cutscene_click      basic   \n",
       "1        20090312431273200      1          1323    person_click      basic   \n",
       "2        20090312431273200      2           831    person_click      basic   \n",
       "3        20090312431273200      3          1147    person_click      basic   \n",
       "4        20090312431273200      4          1863    person_click      basic   \n",
       "...                    ...    ...           ...             ...        ...   \n",
       "1999995  20110211310637800    472        802324  navigate_click  undefined   \n",
       "1999996  20110211310637800    473        802625  navigate_click  undefined   \n",
       "1999997  20110211310637800    474        802900  navigate_click  undefined   \n",
       "1999998  20110211310637800    475        803451    object_hover      basic   \n",
       "1999999  20110211310637800    476        805500    object_hover  undefined   \n",
       "\n",
       "         level  room_coor_x  room_coor_y  screen_coor_x  screen_coor_y  \\\n",
       "0            0  -413.991405  -159.314686          380.0          494.0   \n",
       "1            0  -413.991405  -159.314686          380.0          494.0   \n",
       "2            0  -413.991405  -159.314686          380.0          494.0   \n",
       "3            0  -413.991405  -159.314686          380.0          494.0   \n",
       "4            0  -412.991405  -159.314686          381.0          494.0   \n",
       "...        ...          ...          ...            ...            ...   \n",
       "1999995      9    -0.443521   108.000000          442.0          222.0   \n",
       "1999996      9   -24.435286   114.000000          420.0          216.0   \n",
       "1999997      9   -49.537675    98.000000          396.0          232.0   \n",
       "1999998      9 -1973.059803  -914.364030            0.0            0.0   \n",
       "1999999      9 -1973.059803  -914.364030            0.0            0.0   \n",
       "\n",
       "         hover_duration                fqid                       room_fqid  \\\n",
       "0                  -1.0               intro  tunic.historicalsociety.closet   \n",
       "1                  -1.0              gramps  tunic.historicalsociety.closet   \n",
       "2                  -1.0              gramps  tunic.historicalsociety.closet   \n",
       "3                  -1.0              gramps  tunic.historicalsociety.closet   \n",
       "4                  -1.0              gramps  tunic.historicalsociety.closet   \n",
       "...                 ...                 ...                             ...   \n",
       "1999995            -1.0              reader        tunic.library.microfiche   \n",
       "1999996            -1.0              reader        tunic.library.microfiche   \n",
       "1999997            -1.0              reader        tunic.library.microfiche   \n",
       "1999998           525.0              reader        tunic.library.microfiche   \n",
       "1999999            75.0  reader.paper0.next        tunic.library.microfiche   \n",
       "\n",
       "                                                 text_fqid  fullscreen  hq  \\\n",
       "0                     tunic.historicalsociety.closet.intro           0   0   \n",
       "1        tunic.historicalsociety.closet.gramps.intro_0_...           0   0   \n",
       "2        tunic.historicalsociety.closet.gramps.intro_0_...           0   0   \n",
       "3        tunic.historicalsociety.closet.gramps.intro_0_...           0   0   \n",
       "4        tunic.historicalsociety.closet.gramps.intro_0_...           0   0   \n",
       "...                                                    ...         ...  ..   \n",
       "1999995                                undefined_text_fqid           0   0   \n",
       "1999996                                undefined_text_fqid           0   0   \n",
       "1999997                                undefined_text_fqid           0   0   \n",
       "1999998                                undefined_text_fqid           0   0   \n",
       "1999999                                undefined_text_fqid           0   0   \n",
       "\n",
       "         music level_group  \n",
       "0            1         0-4  \n",
       "1            1         0-4  \n",
       "2            1         0-4  \n",
       "3            1         0-4  \n",
       "4            1         0-4  \n",
       "...        ...         ...  \n",
       "1999995      1        5-12  \n",
       "1999996      1        5-12  \n",
       "1999997      1        5-12  \n",
       "1999998      1        5-12  \n",
       "1999999      1        5-12  \n",
       "\n",
       "[2000000 rows x 18 columns]"
      ]
     },
     "execution_count": 173,
     "metadata": {},
     "output_type": "execute_result"
    }
   ],
   "source": [
    "# In chunk đầu tiên của bảng sau khi tiền xử lý\n",
    "train_df[0]"
   ]
  },
  {
   "cell_type": "code",
   "execution_count": 174,
   "metadata": {},
   "outputs": [
    {
     "name": "stdout",
     "output_type": "stream",
     "text": [
      "<class 'pandas.core.frame.DataFrame'>\n",
      "RangeIndex: 2000000 entries, 0 to 1999999\n",
      "Data columns (total 18 columns):\n",
      " #   Column          Dtype  \n",
      "---  ------          -----  \n",
      " 0   session_id      int64  \n",
      " 1   index           int64  \n",
      " 2   elapsed_time    int64  \n",
      " 3   event_name      object \n",
      " 4   name            object \n",
      " 5   level           int64  \n",
      " 6   room_coor_x     float64\n",
      " 7   room_coor_y     float64\n",
      " 8   screen_coor_x   float64\n",
      " 9   screen_coor_y   float64\n",
      " 10  hover_duration  float64\n",
      " 11  fqid            object \n",
      " 12  room_fqid       object \n",
      " 13  text_fqid       object \n",
      " 14  fullscreen      int64  \n",
      " 15  hq              int64  \n",
      " 16  music           int64  \n",
      " 17  level_group     object \n",
      "dtypes: float64(5), int64(7), object(6)\n",
      "memory usage: 274.7+ MB\n"
     ]
    }
   ],
   "source": [
    "# In thông tin của chunk đầu tiên của train_df\n",
    "train_df[0].info()"
   ]
  },
  {
   "cell_type": "code",
   "execution_count": 175,
   "metadata": {},
   "outputs": [
    {
     "name": "stdout",
     "output_type": "stream",
     "text": [
      "Cột 'event_name' có thể có các kiểu dữ liệu: {<class 'str'>}\n",
      "Cột 'name' có thể có các kiểu dữ liệu: {<class 'str'>}\n",
      "Cột 'fqid' có thể có các kiểu dữ liệu: {<class 'str'>}\n",
      "Cột 'room_fqid' có thể có các kiểu dữ liệu: {<class 'str'>}\n",
      "Cột 'text_fqid' có thể có các kiểu dữ liệu: {<class 'str'>}\n",
      "Cột 'level_group' có thể có các kiểu dữ liệu: {<class 'str'>}\n"
     ]
    }
   ],
   "source": [
    "# Kiểm tra xem kiểu dữ liệu của các cột fqid và cột text_fqid được thống nhất là str chưa\n",
    "for col_name in train_df[0].columns:\n",
    "  col = train_df[0][col_name]\n",
    "  if col.dtype == 'object':\n",
    "    dtype_set = set()\n",
    "    train_df[0][col_name].apply(lambda dt: dtype_set.add(type(dt)))\n",
    "    print(f\"Cột '{col_name}' có thể có các kiểu dữ liệu: {dtype_set}\")"
   ]
  },
  {
   "cell_type": "markdown",
   "metadata": {
    "id": "nzFjQwrOFLjo"
   },
   "source": [
    "#### Quá trình tạo đặc trưng ####"
   ]
  },
  {
   "cell_type": "markdown",
   "metadata": {
    "id": "8ypwhaFrehpU"
   },
   "source": [
    "Đối với những cột nào có kiểu dữ liệu là string chứa từ 2-4 giá trị riêng biệt, chúng em sẽ tạo đặc trưng bằng cách sử dụng *one-hot encoding*. Để biết cột nào có điều kiện như vậy thì chúng em sẽ chạy code sau:"
   ]
  },
  {
   "cell_type": "code",
   "execution_count": 176,
   "metadata": {
    "colab": {
     "base_uri": "https://localhost:8080/"
    },
    "executionInfo": {
     "elapsed": 11,
     "status": "ok",
     "timestamp": 1702022368966,
     "user": {
      "displayName": "Minh Đức Đặng",
      "userId": "09569478104782124625"
     },
     "user_tz": -420
    },
    "id": "vPimckjgLJGd",
    "outputId": "fb1a7e6f-4c04-414c-acb8-9d59bd4dd1f1"
   },
   "outputs": [
    {
     "name": "stdout",
     "output_type": "stream",
     "text": [
      "event_name :  11\n",
      "name :  6\n",
      "fqid :  128\n",
      "room_fqid :  19\n",
      "text_fqid :  126\n",
      "level_group :  3\n"
     ]
    }
   ],
   "source": [
    "# In ra mỗi cột chứa bao nhiêu giá trị riêng biệt\n",
    "for col in train_df[0].columns:\n",
    "  if train_df[0][col].dtype == 'object':\n",
    "    print(col, ': ', len(train_df[0][col].unique()))"
   ]
  },
  {
   "cell_type": "markdown",
   "metadata": {
    "id": "lSw4FtudSCfO"
   },
   "source": [
    "Từ đây, chúng em thấy rằng cần tạo đặc trưng từ cột ``level_group``."
   ]
  },
  {
   "cell_type": "code",
   "execution_count": 177,
   "metadata": {
    "executionInfo": {
     "elapsed": 9,
     "status": "ok",
     "timestamp": 1702022368967,
     "user": {
      "displayName": "Minh Đức Đặng",
      "userId": "09569478104782124625"
     },
     "user_tz": -420
    },
    "id": "R1Xm6ELpFMCb"
   },
   "outputs": [],
   "source": [
    "# One-hot encoding đối với cột level_group \n",
    "for i in range(len(train_df)):\n",
    "    level_group_col = train_df[i]['level_group']\n",
    "    level_group_col = pd.get_dummies(level_group_col, prefix='level_group', dtype=int) # one-hot encoding bằng cách sử dụng hàm get_dummies cho việc đổi từ chuỗi sang 0 hoặc 1 (giá trị số)\n",
    "    train_df[i] = pd.concat([train_df[i], level_group_col], axis=1)"
   ]
  },
  {
   "cell_type": "code",
   "execution_count": 178,
   "metadata": {},
   "outputs": [
    {
     "data": {
      "text/html": [
       "<div>\n",
       "<style scoped>\n",
       "    .dataframe tbody tr th:only-of-type {\n",
       "        vertical-align: middle;\n",
       "    }\n",
       "\n",
       "    .dataframe tbody tr th {\n",
       "        vertical-align: top;\n",
       "    }\n",
       "\n",
       "    .dataframe thead th {\n",
       "        text-align: right;\n",
       "    }\n",
       "</style>\n",
       "<table border=\"1\" class=\"dataframe\">\n",
       "  <thead>\n",
       "    <tr style=\"text-align: right;\">\n",
       "      <th></th>\n",
       "      <th>session_id</th>\n",
       "      <th>index</th>\n",
       "      <th>elapsed_time</th>\n",
       "      <th>event_name</th>\n",
       "      <th>name</th>\n",
       "      <th>level</th>\n",
       "      <th>room_coor_x</th>\n",
       "      <th>room_coor_y</th>\n",
       "      <th>screen_coor_x</th>\n",
       "      <th>screen_coor_y</th>\n",
       "      <th>...</th>\n",
       "      <th>fqid</th>\n",
       "      <th>room_fqid</th>\n",
       "      <th>text_fqid</th>\n",
       "      <th>fullscreen</th>\n",
       "      <th>hq</th>\n",
       "      <th>music</th>\n",
       "      <th>level_group</th>\n",
       "      <th>level_group_0-4</th>\n",
       "      <th>level_group_13-22</th>\n",
       "      <th>level_group_5-12</th>\n",
       "    </tr>\n",
       "  </thead>\n",
       "  <tbody>\n",
       "    <tr>\n",
       "      <th>0</th>\n",
       "      <td>20090312431273200</td>\n",
       "      <td>0</td>\n",
       "      <td>0</td>\n",
       "      <td>cutscene_click</td>\n",
       "      <td>basic</td>\n",
       "      <td>0</td>\n",
       "      <td>-413.991405</td>\n",
       "      <td>-159.314686</td>\n",
       "      <td>380.0</td>\n",
       "      <td>494.0</td>\n",
       "      <td>...</td>\n",
       "      <td>intro</td>\n",
       "      <td>tunic.historicalsociety.closet</td>\n",
       "      <td>tunic.historicalsociety.closet.intro</td>\n",
       "      <td>0</td>\n",
       "      <td>0</td>\n",
       "      <td>1</td>\n",
       "      <td>0-4</td>\n",
       "      <td>1</td>\n",
       "      <td>0</td>\n",
       "      <td>0</td>\n",
       "    </tr>\n",
       "    <tr>\n",
       "      <th>1</th>\n",
       "      <td>20090312431273200</td>\n",
       "      <td>1</td>\n",
       "      <td>1323</td>\n",
       "      <td>person_click</td>\n",
       "      <td>basic</td>\n",
       "      <td>0</td>\n",
       "      <td>-413.991405</td>\n",
       "      <td>-159.314686</td>\n",
       "      <td>380.0</td>\n",
       "      <td>494.0</td>\n",
       "      <td>...</td>\n",
       "      <td>gramps</td>\n",
       "      <td>tunic.historicalsociety.closet</td>\n",
       "      <td>tunic.historicalsociety.closet.gramps.intro_0_...</td>\n",
       "      <td>0</td>\n",
       "      <td>0</td>\n",
       "      <td>1</td>\n",
       "      <td>0-4</td>\n",
       "      <td>1</td>\n",
       "      <td>0</td>\n",
       "      <td>0</td>\n",
       "    </tr>\n",
       "    <tr>\n",
       "      <th>2</th>\n",
       "      <td>20090312431273200</td>\n",
       "      <td>2</td>\n",
       "      <td>831</td>\n",
       "      <td>person_click</td>\n",
       "      <td>basic</td>\n",
       "      <td>0</td>\n",
       "      <td>-413.991405</td>\n",
       "      <td>-159.314686</td>\n",
       "      <td>380.0</td>\n",
       "      <td>494.0</td>\n",
       "      <td>...</td>\n",
       "      <td>gramps</td>\n",
       "      <td>tunic.historicalsociety.closet</td>\n",
       "      <td>tunic.historicalsociety.closet.gramps.intro_0_...</td>\n",
       "      <td>0</td>\n",
       "      <td>0</td>\n",
       "      <td>1</td>\n",
       "      <td>0-4</td>\n",
       "      <td>1</td>\n",
       "      <td>0</td>\n",
       "      <td>0</td>\n",
       "    </tr>\n",
       "    <tr>\n",
       "      <th>3</th>\n",
       "      <td>20090312431273200</td>\n",
       "      <td>3</td>\n",
       "      <td>1147</td>\n",
       "      <td>person_click</td>\n",
       "      <td>basic</td>\n",
       "      <td>0</td>\n",
       "      <td>-413.991405</td>\n",
       "      <td>-159.314686</td>\n",
       "      <td>380.0</td>\n",
       "      <td>494.0</td>\n",
       "      <td>...</td>\n",
       "      <td>gramps</td>\n",
       "      <td>tunic.historicalsociety.closet</td>\n",
       "      <td>tunic.historicalsociety.closet.gramps.intro_0_...</td>\n",
       "      <td>0</td>\n",
       "      <td>0</td>\n",
       "      <td>1</td>\n",
       "      <td>0-4</td>\n",
       "      <td>1</td>\n",
       "      <td>0</td>\n",
       "      <td>0</td>\n",
       "    </tr>\n",
       "    <tr>\n",
       "      <th>4</th>\n",
       "      <td>20090312431273200</td>\n",
       "      <td>4</td>\n",
       "      <td>1863</td>\n",
       "      <td>person_click</td>\n",
       "      <td>basic</td>\n",
       "      <td>0</td>\n",
       "      <td>-412.991405</td>\n",
       "      <td>-159.314686</td>\n",
       "      <td>381.0</td>\n",
       "      <td>494.0</td>\n",
       "      <td>...</td>\n",
       "      <td>gramps</td>\n",
       "      <td>tunic.historicalsociety.closet</td>\n",
       "      <td>tunic.historicalsociety.closet.gramps.intro_0_...</td>\n",
       "      <td>0</td>\n",
       "      <td>0</td>\n",
       "      <td>1</td>\n",
       "      <td>0-4</td>\n",
       "      <td>1</td>\n",
       "      <td>0</td>\n",
       "      <td>0</td>\n",
       "    </tr>\n",
       "    <tr>\n",
       "      <th>...</th>\n",
       "      <td>...</td>\n",
       "      <td>...</td>\n",
       "      <td>...</td>\n",
       "      <td>...</td>\n",
       "      <td>...</td>\n",
       "      <td>...</td>\n",
       "      <td>...</td>\n",
       "      <td>...</td>\n",
       "      <td>...</td>\n",
       "      <td>...</td>\n",
       "      <td>...</td>\n",
       "      <td>...</td>\n",
       "      <td>...</td>\n",
       "      <td>...</td>\n",
       "      <td>...</td>\n",
       "      <td>...</td>\n",
       "      <td>...</td>\n",
       "      <td>...</td>\n",
       "      <td>...</td>\n",
       "      <td>...</td>\n",
       "      <td>...</td>\n",
       "    </tr>\n",
       "    <tr>\n",
       "      <th>1999995</th>\n",
       "      <td>20110211310637800</td>\n",
       "      <td>472</td>\n",
       "      <td>802324</td>\n",
       "      <td>navigate_click</td>\n",
       "      <td>undefined</td>\n",
       "      <td>9</td>\n",
       "      <td>-0.443521</td>\n",
       "      <td>108.000000</td>\n",
       "      <td>442.0</td>\n",
       "      <td>222.0</td>\n",
       "      <td>...</td>\n",
       "      <td>reader</td>\n",
       "      <td>tunic.library.microfiche</td>\n",
       "      <td>undefined_text_fqid</td>\n",
       "      <td>0</td>\n",
       "      <td>0</td>\n",
       "      <td>1</td>\n",
       "      <td>5-12</td>\n",
       "      <td>0</td>\n",
       "      <td>0</td>\n",
       "      <td>1</td>\n",
       "    </tr>\n",
       "    <tr>\n",
       "      <th>1999996</th>\n",
       "      <td>20110211310637800</td>\n",
       "      <td>473</td>\n",
       "      <td>802625</td>\n",
       "      <td>navigate_click</td>\n",
       "      <td>undefined</td>\n",
       "      <td>9</td>\n",
       "      <td>-24.435286</td>\n",
       "      <td>114.000000</td>\n",
       "      <td>420.0</td>\n",
       "      <td>216.0</td>\n",
       "      <td>...</td>\n",
       "      <td>reader</td>\n",
       "      <td>tunic.library.microfiche</td>\n",
       "      <td>undefined_text_fqid</td>\n",
       "      <td>0</td>\n",
       "      <td>0</td>\n",
       "      <td>1</td>\n",
       "      <td>5-12</td>\n",
       "      <td>0</td>\n",
       "      <td>0</td>\n",
       "      <td>1</td>\n",
       "    </tr>\n",
       "    <tr>\n",
       "      <th>1999997</th>\n",
       "      <td>20110211310637800</td>\n",
       "      <td>474</td>\n",
       "      <td>802900</td>\n",
       "      <td>navigate_click</td>\n",
       "      <td>undefined</td>\n",
       "      <td>9</td>\n",
       "      <td>-49.537675</td>\n",
       "      <td>98.000000</td>\n",
       "      <td>396.0</td>\n",
       "      <td>232.0</td>\n",
       "      <td>...</td>\n",
       "      <td>reader</td>\n",
       "      <td>tunic.library.microfiche</td>\n",
       "      <td>undefined_text_fqid</td>\n",
       "      <td>0</td>\n",
       "      <td>0</td>\n",
       "      <td>1</td>\n",
       "      <td>5-12</td>\n",
       "      <td>0</td>\n",
       "      <td>0</td>\n",
       "      <td>1</td>\n",
       "    </tr>\n",
       "    <tr>\n",
       "      <th>1999998</th>\n",
       "      <td>20110211310637800</td>\n",
       "      <td>475</td>\n",
       "      <td>803451</td>\n",
       "      <td>object_hover</td>\n",
       "      <td>basic</td>\n",
       "      <td>9</td>\n",
       "      <td>-1973.059803</td>\n",
       "      <td>-914.364030</td>\n",
       "      <td>0.0</td>\n",
       "      <td>0.0</td>\n",
       "      <td>...</td>\n",
       "      <td>reader</td>\n",
       "      <td>tunic.library.microfiche</td>\n",
       "      <td>undefined_text_fqid</td>\n",
       "      <td>0</td>\n",
       "      <td>0</td>\n",
       "      <td>1</td>\n",
       "      <td>5-12</td>\n",
       "      <td>0</td>\n",
       "      <td>0</td>\n",
       "      <td>1</td>\n",
       "    </tr>\n",
       "    <tr>\n",
       "      <th>1999999</th>\n",
       "      <td>20110211310637800</td>\n",
       "      <td>476</td>\n",
       "      <td>805500</td>\n",
       "      <td>object_hover</td>\n",
       "      <td>undefined</td>\n",
       "      <td>9</td>\n",
       "      <td>-1973.059803</td>\n",
       "      <td>-914.364030</td>\n",
       "      <td>0.0</td>\n",
       "      <td>0.0</td>\n",
       "      <td>...</td>\n",
       "      <td>reader.paper0.next</td>\n",
       "      <td>tunic.library.microfiche</td>\n",
       "      <td>undefined_text_fqid</td>\n",
       "      <td>0</td>\n",
       "      <td>0</td>\n",
       "      <td>1</td>\n",
       "      <td>5-12</td>\n",
       "      <td>0</td>\n",
       "      <td>0</td>\n",
       "      <td>1</td>\n",
       "    </tr>\n",
       "  </tbody>\n",
       "</table>\n",
       "<p>2000000 rows × 21 columns</p>\n",
       "</div>"
      ],
      "text/plain": [
       "                session_id  index  elapsed_time      event_name       name  \\\n",
       "0        20090312431273200      0             0  cutscene_click      basic   \n",
       "1        20090312431273200      1          1323    person_click      basic   \n",
       "2        20090312431273200      2           831    person_click      basic   \n",
       "3        20090312431273200      3          1147    person_click      basic   \n",
       "4        20090312431273200      4          1863    person_click      basic   \n",
       "...                    ...    ...           ...             ...        ...   \n",
       "1999995  20110211310637800    472        802324  navigate_click  undefined   \n",
       "1999996  20110211310637800    473        802625  navigate_click  undefined   \n",
       "1999997  20110211310637800    474        802900  navigate_click  undefined   \n",
       "1999998  20110211310637800    475        803451    object_hover      basic   \n",
       "1999999  20110211310637800    476        805500    object_hover  undefined   \n",
       "\n",
       "         level  room_coor_x  room_coor_y  screen_coor_x  screen_coor_y  ...  \\\n",
       "0            0  -413.991405  -159.314686          380.0          494.0  ...   \n",
       "1            0  -413.991405  -159.314686          380.0          494.0  ...   \n",
       "2            0  -413.991405  -159.314686          380.0          494.0  ...   \n",
       "3            0  -413.991405  -159.314686          380.0          494.0  ...   \n",
       "4            0  -412.991405  -159.314686          381.0          494.0  ...   \n",
       "...        ...          ...          ...            ...            ...  ...   \n",
       "1999995      9    -0.443521   108.000000          442.0          222.0  ...   \n",
       "1999996      9   -24.435286   114.000000          420.0          216.0  ...   \n",
       "1999997      9   -49.537675    98.000000          396.0          232.0  ...   \n",
       "1999998      9 -1973.059803  -914.364030            0.0            0.0  ...   \n",
       "1999999      9 -1973.059803  -914.364030            0.0            0.0  ...   \n",
       "\n",
       "                       fqid                       room_fqid  \\\n",
       "0                     intro  tunic.historicalsociety.closet   \n",
       "1                    gramps  tunic.historicalsociety.closet   \n",
       "2                    gramps  tunic.historicalsociety.closet   \n",
       "3                    gramps  tunic.historicalsociety.closet   \n",
       "4                    gramps  tunic.historicalsociety.closet   \n",
       "...                     ...                             ...   \n",
       "1999995              reader        tunic.library.microfiche   \n",
       "1999996              reader        tunic.library.microfiche   \n",
       "1999997              reader        tunic.library.microfiche   \n",
       "1999998              reader        tunic.library.microfiche   \n",
       "1999999  reader.paper0.next        tunic.library.microfiche   \n",
       "\n",
       "                                                 text_fqid fullscreen  hq  \\\n",
       "0                     tunic.historicalsociety.closet.intro          0   0   \n",
       "1        tunic.historicalsociety.closet.gramps.intro_0_...          0   0   \n",
       "2        tunic.historicalsociety.closet.gramps.intro_0_...          0   0   \n",
       "3        tunic.historicalsociety.closet.gramps.intro_0_...          0   0   \n",
       "4        tunic.historicalsociety.closet.gramps.intro_0_...          0   0   \n",
       "...                                                    ...        ...  ..   \n",
       "1999995                                undefined_text_fqid          0   0   \n",
       "1999996                                undefined_text_fqid          0   0   \n",
       "1999997                                undefined_text_fqid          0   0   \n",
       "1999998                                undefined_text_fqid          0   0   \n",
       "1999999                                undefined_text_fqid          0   0   \n",
       "\n",
       "         music  level_group level_group_0-4  level_group_13-22  \\\n",
       "0            1          0-4               1                  0   \n",
       "1            1          0-4               1                  0   \n",
       "2            1          0-4               1                  0   \n",
       "3            1          0-4               1                  0   \n",
       "4            1          0-4               1                  0   \n",
       "...        ...          ...             ...                ...   \n",
       "1999995      1         5-12               0                  0   \n",
       "1999996      1         5-12               0                  0   \n",
       "1999997      1         5-12               0                  0   \n",
       "1999998      1         5-12               0                  0   \n",
       "1999999      1         5-12               0                  0   \n",
       "\n",
       "         level_group_5-12  \n",
       "0                       0  \n",
       "1                       0  \n",
       "2                       0  \n",
       "3                       0  \n",
       "4                       0  \n",
       "...                   ...  \n",
       "1999995                 1  \n",
       "1999996                 1  \n",
       "1999997                 1  \n",
       "1999998                 1  \n",
       "1999999                 1  \n",
       "\n",
       "[2000000 rows x 21 columns]"
      ]
     },
     "execution_count": 178,
     "metadata": {},
     "output_type": "execute_result"
    }
   ],
   "source": [
    "# In chunk đầu tiên của train_df ra sau khi có các cột one-hot encoding\n",
    "train_df[0]"
   ]
  },
  {
   "cell_type": "markdown",
   "metadata": {
    "id": "9HyHcdciFUwt"
   },
   "source": [
    "#### Xây dựng mô hình ####"
   ]
  },
  {
   "cell_type": "code",
   "execution_count": 179,
   "metadata": {},
   "outputs": [
    {
     "name": "stdout",
     "output_type": "stream",
     "text": [
      "<class 'pandas.core.frame.DataFrame'>\n",
      "RangeIndex: 2000000 entries, 0 to 1999999\n",
      "Data columns (total 21 columns):\n",
      " #   Column             Dtype  \n",
      "---  ------             -----  \n",
      " 0   session_id         int64  \n",
      " 1   index              int64  \n",
      " 2   elapsed_time       int64  \n",
      " 3   event_name         object \n",
      " 4   name               object \n",
      " 5   level              int64  \n",
      " 6   room_coor_x        float64\n",
      " 7   room_coor_y        float64\n",
      " 8   screen_coor_x      float64\n",
      " 9   screen_coor_y      float64\n",
      " 10  hover_duration     float64\n",
      " 11  fqid               object \n",
      " 12  room_fqid          object \n",
      " 13  text_fqid          object \n",
      " 14  fullscreen         int64  \n",
      " 15  hq                 int64  \n",
      " 16  music              int64  \n",
      " 17  level_group        object \n",
      " 18  level_group_0-4    int32  \n",
      " 19  level_group_13-22  int32  \n",
      " 20  level_group_5-12   int32  \n",
      "dtypes: float64(5), int32(3), int64(7), object(6)\n",
      "memory usage: 297.5+ MB\n"
     ]
    }
   ],
   "source": [
    "train_df[0].info()"
   ]
  },
  {
   "cell_type": "code",
   "execution_count": 180,
   "metadata": {
    "executionInfo": {
     "elapsed": 8,
     "status": "ok",
     "timestamp": 1702022368967,
     "user": {
      "displayName": "Minh Đức Đặng",
      "userId": "09569478104782124625"
     },
     "user_tz": -420
    },
    "id": "pm710-GEHo3V"
   },
   "outputs": [],
   "source": [
    "session_id_col = 'session_id'\n",
    "event_name_col = 'event_name'"
   ]
  },
  {
   "cell_type": "code",
   "execution_count": 181,
   "metadata": {},
   "outputs": [],
   "source": [
    "train_data = pd.concat(train_df, axis=0)"
   ]
  },
  {
   "cell_type": "code",
   "execution_count": 182,
   "metadata": {},
   "outputs": [
    {
     "data": {
      "text/plain": [
       "1701"
      ]
     },
     "execution_count": 182,
     "metadata": {},
     "output_type": "execute_result"
    }
   ],
   "source": [
    "# do some memory clean-up\n",
    "import gc\n",
    "\n",
    "del train_df\n",
    "gc.collect()"
   ]
  },
  {
   "cell_type": "code",
   "execution_count": 183,
   "metadata": {},
   "outputs": [],
   "source": [
    "test_data = pd.read_csv('./Data/test.csv')"
   ]
  },
  {
   "cell_type": "code",
   "execution_count": 184,
   "metadata": {},
   "outputs": [],
   "source": [
    "train_data = pd.concat([train_data, test_data.drop('session_level', axis=1)], axis=0).groupby(['session_id', 'level_group'])"
   ]
  },
  {
   "cell_type": "code",
   "execution_count": 185,
   "metadata": {},
   "outputs": [
    {
     "data": {
      "text/html": [
       "<div>\n",
       "<style scoped>\n",
       "    .dataframe tbody tr th:only-of-type {\n",
       "        vertical-align: middle;\n",
       "    }\n",
       "\n",
       "    .dataframe tbody tr th {\n",
       "        vertical-align: top;\n",
       "    }\n",
       "\n",
       "    .dataframe thead th {\n",
       "        text-align: right;\n",
       "    }\n",
       "</style>\n",
       "<table border=\"1\" class=\"dataframe\">\n",
       "  <thead>\n",
       "    <tr style=\"text-align: right;\">\n",
       "      <th></th>\n",
       "      <th>session_id</th>\n",
       "      <th>index</th>\n",
       "      <th>elapsed_time</th>\n",
       "      <th>event_name</th>\n",
       "      <th>name</th>\n",
       "      <th>level</th>\n",
       "      <th>room_coor_x</th>\n",
       "      <th>room_coor_y</th>\n",
       "      <th>screen_coor_x</th>\n",
       "      <th>screen_coor_y</th>\n",
       "      <th>...</th>\n",
       "      <th>text_fqid</th>\n",
       "      <th>fullscreen</th>\n",
       "      <th>hq</th>\n",
       "      <th>music</th>\n",
       "      <th>level_group</th>\n",
       "      <th>level_group_0-4</th>\n",
       "      <th>level_group_13-22</th>\n",
       "      <th>level_group_5-12</th>\n",
       "      <th>page</th>\n",
       "      <th>text</th>\n",
       "    </tr>\n",
       "  </thead>\n",
       "  <tbody>\n",
       "    <tr>\n",
       "      <th>0</th>\n",
       "      <td>20090312431273200</td>\n",
       "      <td>0</td>\n",
       "      <td>0</td>\n",
       "      <td>cutscene_click</td>\n",
       "      <td>basic</td>\n",
       "      <td>0</td>\n",
       "      <td>-413.991405</td>\n",
       "      <td>-159.314686</td>\n",
       "      <td>380.0</td>\n",
       "      <td>494.0</td>\n",
       "      <td>...</td>\n",
       "      <td>tunic.historicalsociety.closet.intro</td>\n",
       "      <td>0</td>\n",
       "      <td>0</td>\n",
       "      <td>1</td>\n",
       "      <td>0-4</td>\n",
       "      <td>1.0</td>\n",
       "      <td>0.0</td>\n",
       "      <td>0.0</td>\n",
       "      <td>NaN</td>\n",
       "      <td>NaN</td>\n",
       "    </tr>\n",
       "    <tr>\n",
       "      <th>1</th>\n",
       "      <td>20090312431273200</td>\n",
       "      <td>1</td>\n",
       "      <td>1323</td>\n",
       "      <td>person_click</td>\n",
       "      <td>basic</td>\n",
       "      <td>0</td>\n",
       "      <td>-413.991405</td>\n",
       "      <td>-159.314686</td>\n",
       "      <td>380.0</td>\n",
       "      <td>494.0</td>\n",
       "      <td>...</td>\n",
       "      <td>tunic.historicalsociety.closet.gramps.intro_0_...</td>\n",
       "      <td>0</td>\n",
       "      <td>0</td>\n",
       "      <td>1</td>\n",
       "      <td>0-4</td>\n",
       "      <td>1.0</td>\n",
       "      <td>0.0</td>\n",
       "      <td>0.0</td>\n",
       "      <td>NaN</td>\n",
       "      <td>NaN</td>\n",
       "    </tr>\n",
       "    <tr>\n",
       "      <th>2</th>\n",
       "      <td>20090312431273200</td>\n",
       "      <td>2</td>\n",
       "      <td>831</td>\n",
       "      <td>person_click</td>\n",
       "      <td>basic</td>\n",
       "      <td>0</td>\n",
       "      <td>-413.991405</td>\n",
       "      <td>-159.314686</td>\n",
       "      <td>380.0</td>\n",
       "      <td>494.0</td>\n",
       "      <td>...</td>\n",
       "      <td>tunic.historicalsociety.closet.gramps.intro_0_...</td>\n",
       "      <td>0</td>\n",
       "      <td>0</td>\n",
       "      <td>1</td>\n",
       "      <td>0-4</td>\n",
       "      <td>1.0</td>\n",
       "      <td>0.0</td>\n",
       "      <td>0.0</td>\n",
       "      <td>NaN</td>\n",
       "      <td>NaN</td>\n",
       "    </tr>\n",
       "    <tr>\n",
       "      <th>3</th>\n",
       "      <td>20090312431273200</td>\n",
       "      <td>3</td>\n",
       "      <td>1147</td>\n",
       "      <td>person_click</td>\n",
       "      <td>basic</td>\n",
       "      <td>0</td>\n",
       "      <td>-413.991405</td>\n",
       "      <td>-159.314686</td>\n",
       "      <td>380.0</td>\n",
       "      <td>494.0</td>\n",
       "      <td>...</td>\n",
       "      <td>tunic.historicalsociety.closet.gramps.intro_0_...</td>\n",
       "      <td>0</td>\n",
       "      <td>0</td>\n",
       "      <td>1</td>\n",
       "      <td>0-4</td>\n",
       "      <td>1.0</td>\n",
       "      <td>0.0</td>\n",
       "      <td>0.0</td>\n",
       "      <td>NaN</td>\n",
       "      <td>NaN</td>\n",
       "    </tr>\n",
       "    <tr>\n",
       "      <th>4</th>\n",
       "      <td>20090312431273200</td>\n",
       "      <td>4</td>\n",
       "      <td>1863</td>\n",
       "      <td>person_click</td>\n",
       "      <td>basic</td>\n",
       "      <td>0</td>\n",
       "      <td>-412.991405</td>\n",
       "      <td>-159.314686</td>\n",
       "      <td>381.0</td>\n",
       "      <td>494.0</td>\n",
       "      <td>...</td>\n",
       "      <td>tunic.historicalsociety.closet.gramps.intro_0_...</td>\n",
       "      <td>0</td>\n",
       "      <td>0</td>\n",
       "      <td>1</td>\n",
       "      <td>0-4</td>\n",
       "      <td>1.0</td>\n",
       "      <td>0.0</td>\n",
       "      <td>0.0</td>\n",
       "      <td>NaN</td>\n",
       "      <td>NaN</td>\n",
       "    </tr>\n",
       "    <tr>\n",
       "      <th>...</th>\n",
       "      <td>...</td>\n",
       "      <td>...</td>\n",
       "      <td>...</td>\n",
       "      <td>...</td>\n",
       "      <td>...</td>\n",
       "      <td>...</td>\n",
       "      <td>...</td>\n",
       "      <td>...</td>\n",
       "      <td>...</td>\n",
       "      <td>...</td>\n",
       "      <td>...</td>\n",
       "      <td>...</td>\n",
       "      <td>...</td>\n",
       "      <td>...</td>\n",
       "      <td>...</td>\n",
       "      <td>...</td>\n",
       "      <td>...</td>\n",
       "      <td>...</td>\n",
       "      <td>...</td>\n",
       "      <td>...</td>\n",
       "      <td>...</td>\n",
       "    </tr>\n",
       "    <tr>\n",
       "      <th>3211</th>\n",
       "      <td>20090312331414616</td>\n",
       "      <td>489</td>\n",
       "      <td>928004</td>\n",
       "      <td>navigate_click</td>\n",
       "      <td>undefined</td>\n",
       "      <td>13</td>\n",
       "      <td>297.729307</td>\n",
       "      <td>-260.559972</td>\n",
       "      <td>656.0</td>\n",
       "      <td>482.0</td>\n",
       "      <td>...</td>\n",
       "      <td>NaN</td>\n",
       "      <td>0</td>\n",
       "      <td>0</td>\n",
       "      <td>1</td>\n",
       "      <td>13-22</td>\n",
       "      <td>NaN</td>\n",
       "      <td>NaN</td>\n",
       "      <td>NaN</td>\n",
       "      <td>NaN</td>\n",
       "      <td>NaN</td>\n",
       "    </tr>\n",
       "    <tr>\n",
       "      <th>3212</th>\n",
       "      <td>20090312331414616</td>\n",
       "      <td>490</td>\n",
       "      <td>928836</td>\n",
       "      <td>navigate_click</td>\n",
       "      <td>undefined</td>\n",
       "      <td>13</td>\n",
       "      <td>459.877554</td>\n",
       "      <td>-262.914382</td>\n",
       "      <td>716.0</td>\n",
       "      <td>474.0</td>\n",
       "      <td>...</td>\n",
       "      <td>NaN</td>\n",
       "      <td>0</td>\n",
       "      <td>0</td>\n",
       "      <td>1</td>\n",
       "      <td>13-22</td>\n",
       "      <td>NaN</td>\n",
       "      <td>NaN</td>\n",
       "      <td>NaN</td>\n",
       "      <td>NaN</td>\n",
       "      <td>NaN</td>\n",
       "    </tr>\n",
       "    <tr>\n",
       "      <th>3213</th>\n",
       "      <td>20090312331414616</td>\n",
       "      <td>491</td>\n",
       "      <td>929968</td>\n",
       "      <td>navigate_click</td>\n",
       "      <td>undefined</td>\n",
       "      <td>13</td>\n",
       "      <td>622.914322</td>\n",
       "      <td>-354.953570</td>\n",
       "      <td>731.0</td>\n",
       "      <td>531.0</td>\n",
       "      <td>...</td>\n",
       "      <td>NaN</td>\n",
       "      <td>0</td>\n",
       "      <td>0</td>\n",
       "      <td>1</td>\n",
       "      <td>13-22</td>\n",
       "      <td>NaN</td>\n",
       "      <td>NaN</td>\n",
       "      <td>NaN</td>\n",
       "      <td>NaN</td>\n",
       "      <td>NaN</td>\n",
       "    </tr>\n",
       "    <tr>\n",
       "      <th>3214</th>\n",
       "      <td>20090312331414616</td>\n",
       "      <td>492</td>\n",
       "      <td>930868</td>\n",
       "      <td>navigate_click</td>\n",
       "      <td>undefined</td>\n",
       "      <td>13</td>\n",
       "      <td>779.643974</td>\n",
       "      <td>-258.638647</td>\n",
       "      <td>791.0</td>\n",
       "      <td>462.0</td>\n",
       "      <td>...</td>\n",
       "      <td>NaN</td>\n",
       "      <td>0</td>\n",
       "      <td>0</td>\n",
       "      <td>1</td>\n",
       "      <td>13-22</td>\n",
       "      <td>NaN</td>\n",
       "      <td>NaN</td>\n",
       "      <td>NaN</td>\n",
       "      <td>NaN</td>\n",
       "      <td>NaN</td>\n",
       "    </tr>\n",
       "    <tr>\n",
       "      <th>3215</th>\n",
       "      <td>20090312331414616</td>\n",
       "      <td>493</td>\n",
       "      <td>931750</td>\n",
       "      <td>map_click</td>\n",
       "      <td>basic</td>\n",
       "      <td>13</td>\n",
       "      <td>777.372366</td>\n",
       "      <td>-42.768409</td>\n",
       "      <td>773.0</td>\n",
       "      <td>331.0</td>\n",
       "      <td>...</td>\n",
       "      <td>NaN</td>\n",
       "      <td>0</td>\n",
       "      <td>0</td>\n",
       "      <td>1</td>\n",
       "      <td>13-22</td>\n",
       "      <td>NaN</td>\n",
       "      <td>NaN</td>\n",
       "      <td>NaN</td>\n",
       "      <td>NaN</td>\n",
       "      <td>NaN</td>\n",
       "    </tr>\n",
       "  </tbody>\n",
       "</table>\n",
       "<p>353475 rows × 23 columns</p>\n",
       "</div>"
      ],
      "text/plain": [
       "             session_id  index  elapsed_time      event_name       name  \\\n",
       "0     20090312431273200      0             0  cutscene_click      basic   \n",
       "1     20090312431273200      1          1323    person_click      basic   \n",
       "2     20090312431273200      2           831    person_click      basic   \n",
       "3     20090312431273200      3          1147    person_click      basic   \n",
       "4     20090312431273200      4          1863    person_click      basic   \n",
       "...                 ...    ...           ...             ...        ...   \n",
       "3211  20090312331414616    489        928004  navigate_click  undefined   \n",
       "3212  20090312331414616    490        928836  navigate_click  undefined   \n",
       "3213  20090312331414616    491        929968  navigate_click  undefined   \n",
       "3214  20090312331414616    492        930868  navigate_click  undefined   \n",
       "3215  20090312331414616    493        931750       map_click      basic   \n",
       "\n",
       "      level  room_coor_x  room_coor_y  screen_coor_x  screen_coor_y  ...  \\\n",
       "0         0  -413.991405  -159.314686          380.0          494.0  ...   \n",
       "1         0  -413.991405  -159.314686          380.0          494.0  ...   \n",
       "2         0  -413.991405  -159.314686          380.0          494.0  ...   \n",
       "3         0  -413.991405  -159.314686          380.0          494.0  ...   \n",
       "4         0  -412.991405  -159.314686          381.0          494.0  ...   \n",
       "...     ...          ...          ...            ...            ...  ...   \n",
       "3211     13   297.729307  -260.559972          656.0          482.0  ...   \n",
       "3212     13   459.877554  -262.914382          716.0          474.0  ...   \n",
       "3213     13   622.914322  -354.953570          731.0          531.0  ...   \n",
       "3214     13   779.643974  -258.638647          791.0          462.0  ...   \n",
       "3215     13   777.372366   -42.768409          773.0          331.0  ...   \n",
       "\n",
       "                                              text_fqid fullscreen hq music  \\\n",
       "0                  tunic.historicalsociety.closet.intro          0  0     1   \n",
       "1     tunic.historicalsociety.closet.gramps.intro_0_...          0  0     1   \n",
       "2     tunic.historicalsociety.closet.gramps.intro_0_...          0  0     1   \n",
       "3     tunic.historicalsociety.closet.gramps.intro_0_...          0  0     1   \n",
       "4     tunic.historicalsociety.closet.gramps.intro_0_...          0  0     1   \n",
       "...                                                 ...        ... ..   ...   \n",
       "3211                                                NaN          0  0     1   \n",
       "3212                                                NaN          0  0     1   \n",
       "3213                                                NaN          0  0     1   \n",
       "3214                                                NaN          0  0     1   \n",
       "3215                                                NaN          0  0     1   \n",
       "\n",
       "      level_group  level_group_0-4  level_group_13-22 level_group_5-12  page  \\\n",
       "0             0-4              1.0                0.0              0.0   NaN   \n",
       "1             0-4              1.0                0.0              0.0   NaN   \n",
       "2             0-4              1.0                0.0              0.0   NaN   \n",
       "3             0-4              1.0                0.0              0.0   NaN   \n",
       "4             0-4              1.0                0.0              0.0   NaN   \n",
       "...           ...              ...                ...              ...   ...   \n",
       "3211        13-22              NaN                NaN              NaN   NaN   \n",
       "3212        13-22              NaN                NaN              NaN   NaN   \n",
       "3213        13-22              NaN                NaN              NaN   NaN   \n",
       "3214        13-22              NaN                NaN              NaN   NaN   \n",
       "3215        13-22              NaN                NaN              NaN   NaN   \n",
       "\n",
       "      text  \n",
       "0      NaN  \n",
       "1      NaN  \n",
       "2      NaN  \n",
       "3      NaN  \n",
       "4      NaN  \n",
       "...    ...  \n",
       "3211   NaN  \n",
       "3212   NaN  \n",
       "3213   NaN  \n",
       "3214   NaN  \n",
       "3215   NaN  \n",
       "\n",
       "[353475 rows x 23 columns]"
      ]
     },
     "execution_count": 185,
     "metadata": {},
     "output_type": "execute_result"
    }
   ],
   "source": [
    "train_data.head()"
   ]
  },
  {
   "cell_type": "code",
   "execution_count": 186,
   "metadata": {},
   "outputs": [],
   "source": [
    "X = train_data['hq'].unique().index.to_frame(index=False)"
   ]
  },
  {
   "cell_type": "code",
   "execution_count": 187,
   "metadata": {},
   "outputs": [],
   "source": [
    "X['total_time'] = train_data['elapsed_time'].max().reset_index(drop=True)\n",
    "X['avg_time'] = ((train_data['elapsed_time'].max() - train_data['elapsed_time'].min()) / (train_data['index'].max() - train_data['index'].min())).reset_index(drop=True)"
   ]
  },
  {
   "cell_type": "code",
   "execution_count": 188,
   "metadata": {},
   "outputs": [],
   "source": [
    "X[['avg_room_coor_x', 'avg_room_coor_y', 'avg_screen_coor_x', 'avg_screen_coor_y']] = train_data[['room_coor_x', 'room_coor_y', 'screen_coor_x', 'screen_coor_y']].mean().reset_index(drop=True)"
   ]
  },
  {
   "cell_type": "code",
   "execution_count": 189,
   "metadata": {},
   "outputs": [],
   "source": [
    "X[['n_text', 'n_fqid', 'n_room_fqid', 'n_text_fqid']] = train_data[['text', 'fqid', 'room_fqid', 'text_fqid']].nunique().reset_index(drop=True)"
   ]
  },
  {
   "cell_type": "code",
   "execution_count": 190,
   "metadata": {},
   "outputs": [],
   "source": [
    "X[['mode_fullscreen', 'mode_hq', 'mode_music']] = train_data[['fullscreen', 'hq', 'music']].apply(pd.DataFrame.mode).reset_index(drop=True)"
   ]
  },
  {
   "cell_type": "code",
   "execution_count": 191,
   "metadata": {},
   "outputs": [
    {
     "data": {
      "text/plain": [
       "0"
      ]
     },
     "execution_count": 191,
     "metadata": {},
     "output_type": "execute_result"
    }
   ],
   "source": [
    "del train_data\n",
    "gc.collect()"
   ]
  },
  {
   "cell_type": "code",
   "execution_count": 192,
   "metadata": {},
   "outputs": [],
   "source": [
    "train_labels_df = pd.read_csv('./Data/train_labels.csv')"
   ]
  },
  {
   "cell_type": "code",
   "execution_count": 193,
   "metadata": {},
   "outputs": [
    {
     "name": "stdout",
     "output_type": "stream",
     "text": [
      "['q1', 'q2', 'q3', 'q4', 'q5', 'q6', 'q7', 'q8', 'q9', 'q10', 'q11', 'q12', 'q13', 'q14', 'q15', 'q16', 'q17', 'q18']\n"
     ]
    }
   ],
   "source": [
    "# create a list with column names q1 through q18\n",
    "q_cols = []\n",
    "for i in range(1, 19):\n",
    "    col = 'q' + str(i)\n",
    "    q_cols.append(col)\n",
    "\n",
    "print(q_cols)"
   ]
  },
  {
   "cell_type": "code",
   "execution_count": 194,
   "metadata": {},
   "outputs": [],
   "source": [
    "q_zeros = pd.DataFrame(np.zeros((len(train_labels_df), 18)), columns=q_cols)"
   ]
  },
  {
   "cell_type": "code",
   "execution_count": 195,
   "metadata": {},
   "outputs": [],
   "source": [
    "q_train_label = pd.concat([train_labels_df, q_zeros], axis=1)"
   ]
  },
  {
   "cell_type": "code",
   "execution_count": 196,
   "metadata": {},
   "outputs": [],
   "source": [
    "for col in q_cols:\n",
    "    q_train_label.loc[(q_train_label['session_id'].str.endswith(col), col)] = q_train_label.loc[(q_train_label['session_id'].str.endswith(col), 'correct')]"
   ]
  },
  {
   "cell_type": "code",
   "execution_count": 197,
   "metadata": {},
   "outputs": [],
   "source": [
    "# create a function to group question numbers and save in level_group column\n",
    "def group_qs(session_id):\n",
    "    q_num = int(session_id.split('_q')[1])\n",
    "    if 1 <= q_num <= 3:\n",
    "        return '0-4'\n",
    "    elif 4 <= q_num <= 13:\n",
    "        return '5-12'\n",
    "    else:\n",
    "        return '13-22'\n",
    "\n",
    "q_train_label['level_group'] = q_train_label['session_id'].apply(group_qs)"
   ]
  },
  {
   "cell_type": "code",
   "execution_count": 198,
   "metadata": {},
   "outputs": [],
   "source": [
    "q_train_label['session_id'] = q_train_label['session_id'].apply(lambda x: x.split('_')[0])"
   ]
  },
  {
   "cell_type": "code",
   "execution_count": 199,
   "metadata": {},
   "outputs": [],
   "source": [
    "X_train_label = q_train_label.drop('correct', axis=1).groupby(['session_id', 'level_group']).sum().reset_index()"
   ]
  },
  {
   "cell_type": "code",
   "execution_count": 200,
   "metadata": {},
   "outputs": [],
   "source": [
    "X_train_label['session_id'] = X_train_label['session_id'].astype('int64')"
   ]
  },
  {
   "cell_type": "code",
   "execution_count": 201,
   "metadata": {},
   "outputs": [],
   "source": [
    "X_merged = X.merge(X_train_label, how='left', left_on=['session_id', 'level_group'], right_on=['session_id', 'level_group'])"
   ]
  },
  {
   "cell_type": "code",
   "execution_count": 202,
   "metadata": {},
   "outputs": [],
   "source": [
    "X_merged = pd.get_dummies(X_merged, columns=['level_group'], dtype='int8')"
   ]
  },
  {
   "cell_type": "code",
   "execution_count": 203,
   "metadata": {},
   "outputs": [],
   "source": [
    "# split into train and test datasets\n",
    "test_len = len(test_data.groupby(['session_id', 'level_group'])['index'].min())\n",
    "\n",
    "X_test = X_merged.iloc[:test_len]\n",
    "X_train = X_merged.iloc[test_len:]"
   ]
  },
  {
   "cell_type": "code",
   "execution_count": 204,
   "metadata": {},
   "outputs": [
    {
     "name": "stderr",
     "output_type": "stream",
     "text": [
      "C:\\Users\\ACER\\AppData\\Local\\Temp\\ipykernel_9516\\2632803331.py:3: SettingWithCopyWarning: \n",
      "A value is trying to be set on a copy of a slice from a DataFrame\n",
      "\n",
      "See the caveats in the documentation: https://pandas.pydata.org/pandas-docs/stable/user_guide/indexing.html#returning-a-view-versus-a-copy\n",
      "  X_train.drop(q_cols, axis=1, inplace=True)\n",
      "C:\\Users\\ACER\\AppData\\Local\\Temp\\ipykernel_9516\\2632803331.py:5: SettingWithCopyWarning: \n",
      "A value is trying to be set on a copy of a slice from a DataFrame\n",
      "\n",
      "See the caveats in the documentation: https://pandas.pydata.org/pandas-docs/stable/user_guide/indexing.html#returning-a-view-versus-a-copy\n",
      "  X_test.drop(q_cols, axis=1, inplace=True)\n"
     ]
    }
   ],
   "source": [
    "# split the data into X's and y's\n",
    "y_train = X_train[q_cols]\n",
    "X_train.drop(q_cols, axis=1, inplace=True)\n",
    "\n",
    "X_test.drop(q_cols, axis=1, inplace=True)"
   ]
  },
  {
   "cell_type": "code",
   "execution_count": 205,
   "metadata": {},
   "outputs": [],
   "source": [
    "# Xây dựng và huấn luyện mô hình (ví dụ: Random Forest)\n",
    "from sklearn.model_selection import train_test_split\n",
    "from sklearn.ensemble import RandomForestClassifier\n",
    "from sklearn.metrics import accuracy_score\n",
    "\n",
    "# Khởi tạo và huấn luyện mô hình\n",
    "model = RandomForestClassifier()\n",
    "model.fit(X_train, y_train)\n",
    "\n",
    "# Dự đoán trên tập kiểm thử\n",
    "y_pred = model.predict(X_test)"
   ]
  },
  {
   "cell_type": "code",
   "execution_count": 206,
   "metadata": {},
   "outputs": [],
   "source": [
    "y_preds_df = pd.DataFrame(y_pred, columns=q_cols)"
   ]
  },
  {
   "cell_type": "code",
   "execution_count": 207,
   "metadata": {},
   "outputs": [
    {
     "data": {
      "text/html": [
       "<div>\n",
       "<style scoped>\n",
       "    .dataframe tbody tr th:only-of-type {\n",
       "        vertical-align: middle;\n",
       "    }\n",
       "\n",
       "    .dataframe tbody tr th {\n",
       "        vertical-align: top;\n",
       "    }\n",
       "\n",
       "    .dataframe thead th {\n",
       "        text-align: right;\n",
       "    }\n",
       "</style>\n",
       "<table border=\"1\" class=\"dataframe\">\n",
       "  <thead>\n",
       "    <tr style=\"text-align: right;\">\n",
       "      <th></th>\n",
       "      <th>q1</th>\n",
       "      <th>q2</th>\n",
       "      <th>q3</th>\n",
       "      <th>q4</th>\n",
       "      <th>q5</th>\n",
       "      <th>q6</th>\n",
       "      <th>q7</th>\n",
       "      <th>q8</th>\n",
       "      <th>q9</th>\n",
       "      <th>q10</th>\n",
       "      <th>q11</th>\n",
       "      <th>q12</th>\n",
       "      <th>q13</th>\n",
       "      <th>q14</th>\n",
       "      <th>q15</th>\n",
       "      <th>q16</th>\n",
       "      <th>q17</th>\n",
       "      <th>q18</th>\n",
       "    </tr>\n",
       "  </thead>\n",
       "  <tbody>\n",
       "    <tr>\n",
       "      <th>0</th>\n",
       "      <td>1.0</td>\n",
       "      <td>1.0</td>\n",
       "      <td>1.0</td>\n",
       "      <td>0.0</td>\n",
       "      <td>0.0</td>\n",
       "      <td>0.0</td>\n",
       "      <td>0.0</td>\n",
       "      <td>0.0</td>\n",
       "      <td>0.0</td>\n",
       "      <td>0.0</td>\n",
       "      <td>0.0</td>\n",
       "      <td>0.0</td>\n",
       "      <td>0.0</td>\n",
       "      <td>0.0</td>\n",
       "      <td>0.0</td>\n",
       "      <td>0.0</td>\n",
       "      <td>0.0</td>\n",
       "      <td>0.0</td>\n",
       "    </tr>\n",
       "    <tr>\n",
       "      <th>1</th>\n",
       "      <td>0.0</td>\n",
       "      <td>0.0</td>\n",
       "      <td>0.0</td>\n",
       "      <td>0.0</td>\n",
       "      <td>0.0</td>\n",
       "      <td>0.0</td>\n",
       "      <td>0.0</td>\n",
       "      <td>0.0</td>\n",
       "      <td>0.0</td>\n",
       "      <td>0.0</td>\n",
       "      <td>0.0</td>\n",
       "      <td>0.0</td>\n",
       "      <td>0.0</td>\n",
       "      <td>1.0</td>\n",
       "      <td>0.0</td>\n",
       "      <td>1.0</td>\n",
       "      <td>1.0</td>\n",
       "      <td>1.0</td>\n",
       "    </tr>\n",
       "    <tr>\n",
       "      <th>2</th>\n",
       "      <td>0.0</td>\n",
       "      <td>0.0</td>\n",
       "      <td>0.0</td>\n",
       "      <td>1.0</td>\n",
       "      <td>0.0</td>\n",
       "      <td>1.0</td>\n",
       "      <td>1.0</td>\n",
       "      <td>1.0</td>\n",
       "      <td>1.0</td>\n",
       "      <td>1.0</td>\n",
       "      <td>1.0</td>\n",
       "      <td>1.0</td>\n",
       "      <td>0.0</td>\n",
       "      <td>0.0</td>\n",
       "      <td>0.0</td>\n",
       "      <td>0.0</td>\n",
       "      <td>0.0</td>\n",
       "      <td>0.0</td>\n",
       "    </tr>\n",
       "    <tr>\n",
       "      <th>3</th>\n",
       "      <td>1.0</td>\n",
       "      <td>1.0</td>\n",
       "      <td>1.0</td>\n",
       "      <td>0.0</td>\n",
       "      <td>0.0</td>\n",
       "      <td>0.0</td>\n",
       "      <td>0.0</td>\n",
       "      <td>0.0</td>\n",
       "      <td>0.0</td>\n",
       "      <td>0.0</td>\n",
       "      <td>0.0</td>\n",
       "      <td>0.0</td>\n",
       "      <td>0.0</td>\n",
       "      <td>0.0</td>\n",
       "      <td>0.0</td>\n",
       "      <td>0.0</td>\n",
       "      <td>0.0</td>\n",
       "      <td>0.0</td>\n",
       "    </tr>\n",
       "    <tr>\n",
       "      <th>4</th>\n",
       "      <td>0.0</td>\n",
       "      <td>0.0</td>\n",
       "      <td>0.0</td>\n",
       "      <td>0.0</td>\n",
       "      <td>0.0</td>\n",
       "      <td>0.0</td>\n",
       "      <td>0.0</td>\n",
       "      <td>0.0</td>\n",
       "      <td>0.0</td>\n",
       "      <td>0.0</td>\n",
       "      <td>0.0</td>\n",
       "      <td>0.0</td>\n",
       "      <td>0.0</td>\n",
       "      <td>1.0</td>\n",
       "      <td>0.0</td>\n",
       "      <td>1.0</td>\n",
       "      <td>0.0</td>\n",
       "      <td>1.0</td>\n",
       "    </tr>\n",
       "  </tbody>\n",
       "</table>\n",
       "</div>"
      ],
      "text/plain": [
       "    q1   q2   q3   q4   q5   q6   q7   q8   q9  q10  q11  q12  q13  q14  q15  \\\n",
       "0  1.0  1.0  1.0  0.0  0.0  0.0  0.0  0.0  0.0  0.0  0.0  0.0  0.0  0.0  0.0   \n",
       "1  0.0  0.0  0.0  0.0  0.0  0.0  0.0  0.0  0.0  0.0  0.0  0.0  0.0  1.0  0.0   \n",
       "2  0.0  0.0  0.0  1.0  0.0  1.0  1.0  1.0  1.0  1.0  1.0  1.0  0.0  0.0  0.0   \n",
       "3  1.0  1.0  1.0  0.0  0.0  0.0  0.0  0.0  0.0  0.0  0.0  0.0  0.0  0.0  0.0   \n",
       "4  0.0  0.0  0.0  0.0  0.0  0.0  0.0  0.0  0.0  0.0  0.0  0.0  0.0  1.0  0.0   \n",
       "\n",
       "   q16  q17  q18  \n",
       "0  0.0  0.0  0.0  \n",
       "1  1.0  1.0  1.0  \n",
       "2  0.0  0.0  0.0  \n",
       "3  0.0  0.0  0.0  \n",
       "4  1.0  0.0  1.0  "
      ]
     },
     "execution_count": 207,
     "metadata": {},
     "output_type": "execute_result"
    }
   ],
   "source": [
    "y_preds_df.head()"
   ]
  },
  {
   "cell_type": "code",
   "execution_count": 208,
   "metadata": {},
   "outputs": [],
   "source": [
    "output = test_data.groupby(['session_id', 'level_group'])['hq'].unique().index.to_frame(index=False)"
   ]
  },
  {
   "cell_type": "code",
   "execution_count": 209,
   "metadata": {},
   "outputs": [],
   "source": [
    "output_df = pd.concat([output, y_preds_df], axis=1)"
   ]
  },
  {
   "cell_type": "code",
   "execution_count": 210,
   "metadata": {},
   "outputs": [],
   "source": [
    "output_df['level_group'] = pd.Categorical(output_df['level_group'], categories=['0-4', '5-12', '13-22'], ordered=True)"
   ]
  },
  {
   "cell_type": "code",
   "execution_count": 211,
   "metadata": {},
   "outputs": [],
   "source": [
    "output_df = output_df.sort_values(by=['session_id', 'level_group'])"
   ]
  },
  {
   "cell_type": "code",
   "execution_count": 212,
   "metadata": {},
   "outputs": [],
   "source": [
    "# reset the index and then create a new session level column using index values\n",
    "output_df.reset_index(drop=True, inplace=True)\n",
    "output_df['session_level'] = output_df.index"
   ]
  },
  {
   "cell_type": "code",
   "execution_count": 213,
   "metadata": {},
   "outputs": [],
   "source": [
    "# create lists with session names, correct/incorrect binary labels and session levels\n",
    "session_ids = []\n",
    "corrects = []\n",
    "session_levels = []\n",
    "for session_id in output_df['session_id'].unique():\n",
    "    for col in q_cols:\n",
    "        session_ids.append(str(session_id) + '_' + col)\n",
    "        q_num = int(col.split('q')[1])\n",
    "        if 1 <= q_num <= 3:\n",
    "            corrects.append(int((output_df[(output_df['session_id'] == session_id) & (output_df['level_group'] == '0-4')][col]).iloc[0]))\n",
    "            session_levels.append(int((output_df[(output_df['session_id'] == session_id) & (output_df['level_group'] == '0-4')]['session_level']).iloc[0]))\n",
    "        elif 4 <= q_num <= 13:\n",
    "            corrects.append(int((output_df[(output_df['session_id'] == session_id) & (output_df['level_group'] == '5-12')][col]).iloc[0]))\n",
    "            session_levels.append(int((output_df[(output_df['session_id'] == session_id) & (output_df['level_group'] == '5-12')]['session_level']).iloc[0]))\n",
    "        else:\n",
    "            corrects.append(int((output_df[(output_df['session_id'] == session_id) & (output_df['level_group'] == '13-22')][col]).iloc[0]))\n",
    "            session_levels.append(int((output_df[(output_df['session_id'] == session_id) & (output_df['level_group'] == '13-22')]['session_level']).iloc[0]))"
   ]
  },
  {
   "cell_type": "code",
   "execution_count": 214,
   "metadata": {},
   "outputs": [],
   "source": [
    "# combine the lists into a dataframe and export to CSV\n",
    "final_output = pd.DataFrame(data=np.array([session_ids, corrects, session_levels]).T, columns=['session_id', 'correct', 'session_level'])"
   ]
  },
  {
   "cell_type": "code",
   "execution_count": 215,
   "metadata": {},
   "outputs": [],
   "source": [
    "# add session_id numerical and question number column for sorting purposes\n",
    "final_output['session_id_num'] = final_output['session_id'].apply(lambda x: x.split('_q')[0])\n",
    "final_output['question_num'] = final_output['session_id'].apply(lambda x: x.split('_q')[1])"
   ]
  },
  {
   "cell_type": "code",
   "execution_count": 216,
   "metadata": {},
   "outputs": [],
   "source": [
    "# convert dtypes to integer\n",
    "final_output['session_id_num'] = final_output['session_id_num'].astype('int64')\n",
    "final_output['question_num'] = final_output['question_num'].astype('int8')"
   ]
  },
  {
   "cell_type": "code",
   "execution_count": 217,
   "metadata": {},
   "outputs": [],
   "source": [
    "# order the dataframe\n",
    "final_output = final_output.sort_values(by=['question_num', 'session_id_num']).reset_index(drop=True)"
   ]
  },
  {
   "cell_type": "code",
   "execution_count": 218,
   "metadata": {},
   "outputs": [],
   "source": [
    "# save the output as a CSV file\n",
    "final_output.drop(['session_id_num', 'question_num'], axis=1).to_csv('./Data/submission.csv', index=False)"
   ]
  },
  {
   "cell_type": "markdown",
   "metadata": {
    "id": "YQFeJVt8Hu2v"
   },
   "source": [
    "#### Thử nghiệm ####"
   ]
  },
  {
   "cell_type": "code",
   "execution_count": null,
   "metadata": {
    "executionInfo": {
     "elapsed": 7,
     "status": "ok",
     "timestamp": 1702022368967,
     "user": {
      "displayName": "Minh Đức Đặng",
      "userId": "09569478104782124625"
     },
     "user_tz": -420
    },
    "id": "6-hpDRTJHwJG"
   },
   "outputs": [],
   "source": []
  },
  {
   "cell_type": "markdown",
   "metadata": {
    "id": "3IzXiAbuH5GD"
   },
   "source": [
    "#### Kết luận ####"
   ]
  },
  {
   "cell_type": "markdown",
   "metadata": {
    "id": "41HhQ5KxIMZD"
   },
   "source": [
    "#### Hướng phát triển ####"
   ]
  }
 ],
 "metadata": {
  "colab": {
   "provenance": []
  },
  "kernelspec": {
   "display_name": "Python 3 (ipykernel)",
   "language": "python",
   "name": "python3"
  },
  "language_info": {
   "codemirror_mode": {
    "name": "ipython",
    "version": 3
   },
   "file_extension": ".py",
   "mimetype": "text/x-python",
   "name": "python",
   "nbconvert_exporter": "python",
   "pygments_lexer": "ipython3",
   "version": "3.10.11"
  }
 },
 "nbformat": 4,
 "nbformat_minor": 4
}
